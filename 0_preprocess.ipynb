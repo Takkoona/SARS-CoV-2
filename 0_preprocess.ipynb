{
 "cells": [
  {
   "cell_type": "code",
   "execution_count": 1,
   "metadata": {},
   "outputs": [],
   "source": [
    "import os\n",
    "from collections import Counter\n",
    "\n",
    "import pandas as pd\n",
    "from Bio import SeqIO\n",
    "from Bio.Seq import Seq\n",
    "\n",
    "dataDir = \"Data\"\n",
    "genomeTreeDir = \"Genome_tree\"\n",
    "genomeTreeEXDir = \"Genome_tree_EX\"\n",
    "snpCompareDir = \"SNPs_comparison\""
   ]
  },
  {
   "cell_type": "code",
   "execution_count": 2,
   "metadata": {},
   "outputs": [],
   "source": [
    "if not os.path.exists(genomeTreeDir):\n",
    "    os.mkdir(genomeTreeDir)\n",
    "\n",
    "if not os.path.exists(snpCompareDir):\n",
    "    os.mkdir(snpCompareDir)\n",
    "\n",
    "if not os.path.exists(genomeTreeEXDir):\n",
    "    os.mkdir(genomeTreeEXDir)"
   ]
  },
  {
   "cell_type": "code",
   "execution_count": 3,
   "metadata": {},
   "outputs": [],
   "source": [
    "original = pd.read_csv(os.path.join(dataDir, \"original.csv\"))\n",
    "meta = pd.read_csv(os.path.join(dataDir, \"meta_data.csv\"))\n",
    "meta = pd.merge(meta, original, left_on=\"Accession ID\", right_on=\"Accession ID\", suffixes=(\"\", \"_y\"))"
   ]
  },
  {
   "cell_type": "code",
   "execution_count": 4,
   "metadata": {},
   "outputs": [],
   "source": [
    "meta[\"Collection date\"] = pd.to_datetime(meta[\"Collection date\"])\n",
    "meta[\"Area\"] = pd.Series()\n",
    "meta[\"Location\"] = pd.Series()\n",
    "for index, row in meta.iterrows():\n",
    "    if row[\"Country\"] == \"China\":\n",
    "        area = row[\"Province\"].strip(' ')\n",
    "        if area == \"Guandong\":\n",
    "            area = \"Guangdong\"\n",
    "        elif area == \"Chongqinq\":\n",
    "            area = \"Chongqing\"\n",
    "        if pd.isna(row[\"City\"]):\n",
    "            location = area\n",
    "        else:\n",
    "            location = row[\"City\"].strip(' ')\n",
    "                \n",
    "    else:\n",
    "        area = row[\"Country\"].strip(' ')\n",
    "        location = row[\"Country\"].strip(' ')\n",
    "        if \"SIngapore\" in area:\n",
    "            area = \"Singapore\"\n",
    "            location = \"Singapore\"\n",
    "    meta.loc[index, \"Area\"] = area\n",
    "    meta.loc[index, \"Location\"] = location"
   ]
  },
  {
   "cell_type": "code",
   "execution_count": 5,
   "metadata": {},
   "outputs": [],
   "source": [
    "meta = meta[[\"Accession ID\", \"Host\", \"Location\", \"Area\", \"Country\", \"Collection date\"]]\n",
    "meta.to_csv(\n",
    "    os.path.join(dataDir, \"info.csv\"),\n",
    "    sep=\",\",\n",
    "    index=False\n",
    ")"
   ]
  },
  {
   "cell_type": "code",
   "execution_count": 6,
   "metadata": {},
   "outputs": [
    {
     "name": "stdout",
     "output_type": "stream",
     "text": [
      "412116\n"
     ]
    },
    {
     "data": {
      "text/plain": [
       "129"
      ]
     },
     "execution_count": 6,
     "metadata": {},
     "output_type": "execute_result"
    }
   ],
   "source": [
    "minLen = 28000\n",
    "maxN = 100\n",
    "\n",
    "seqs = []\n",
    "outgroup = \"EPI_ISL_402125\"\n",
    "\n",
    "pangolin = meta.loc[meta[\"Host\"] == \"Manis javanica\", \"Accession ID\"].values\n",
    "bat = meta.loc[meta[\"Host\"] == \"Rhinolophus affinis\", \"Accession ID\"].values\n",
    "\n",
    "nonHuman = [*pangolin, *bat]\n",
    "\n",
    "# Long branches to exclude\n",
    "exclude = [\n",
    "    \"EPI_ISL_406592\",\n",
    "    \"EPI_ISL_406595\",\n",
    "    \"EPI_ISL_408485\",\n",
    "    \"EPI_ISL_408482\",\n",
    "    \"EPI_ISL_411929\",\n",
    "    \"EPI_ISL_411951\",\n",
    "    \"EPI_ISL_411952\",\n",
    "    \"MT039890\",\n",
    "]\n",
    "\n",
    "maxID = None\n",
    "\n",
    "for record in SeqIO.parse(os.path.join(dataDir, \"sequences.fasta\"), \"fasta\"):\n",
    "    ac = record.id\n",
    "    if ac not in exclude and ac.startswith(\"EPI_ISL\"):\n",
    "        seqSum = Counter(str(record.seq).upper())\n",
    "        if len(record) > minLen and seqSum['N'] < maxN and record.id not in nonHuman:\n",
    "            seqs.append(record)\n",
    "            idNum = record.id.split('_')[2]\n",
    "            if not maxID:\n",
    "                maxID = idNum\n",
    "            elif idNum > maxID:\n",
    "                maxID = idNum\n",
    "print(maxID)\n",
    "\n",
    "with open(os.path.join(genomeTreeDir, \"outgroup.txt\"), 'w') as f:\n",
    "    f.write(outgroup + \"\\n\")\n",
    "SeqIO.write(seqs, os.path.join(genomeTreeDir, \"genomes.fasta\"), \"fasta\")"
   ]
  },
  {
   "cell_type": "code",
   "execution_count": 7,
   "metadata": {},
   "outputs": [
    {
     "data": {
      "text/plain": [
       "136"
      ]
     },
     "execution_count": 7,
     "metadata": {},
     "output_type": "execute_result"
    }
   ],
   "source": [
    "outAllSeqs = []\n",
    "outgroup = \"EPI_ISL_402131\"\n",
    "\n",
    "for record in SeqIO.parse(os.path.join(dataDir, \"sequences.fasta\"), \"fasta\"):\n",
    "    seqSum = Counter(str(record.seq).upper())\n",
    "    if len(record) > minLen and seqSum['N'] < maxN:\n",
    "        if record.id not in exclude and record.id.startswith(\"EPI_ISL\"):\n",
    "            outAllSeqs.append(record)\n",
    "\n",
    "with open(os.path.join(genomeTreeEXDir, \"outgroup.txt\"), 'w') as f:\n",
    "    f.write(outgroup + \"\\n\")\n",
    "SeqIO.write(outAllSeqs, os.path.join(snpCompareDir, \"all.fasta\"), \"fasta\")"
   ]
  }
 ],
 "metadata": {
  "kernelspec": {
   "display_name": "Python 3",
   "language": "python",
   "name": "python3"
  },
  "language_info": {
   "codemirror_mode": {
    "name": "ipython",
    "version": 3
   },
   "file_extension": ".py",
   "mimetype": "text/x-python",
   "name": "python",
   "nbconvert_exporter": "python",
   "pygments_lexer": "ipython3",
   "version": "3.5.3"
  }
 },
 "nbformat": 4,
 "nbformat_minor": 2
}
