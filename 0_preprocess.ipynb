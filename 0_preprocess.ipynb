{
 "cells": [
  {
   "cell_type": "code",
   "execution_count": 1,
   "metadata": {},
   "outputs": [],
   "source": [
    "import os\n",
    "from collections import Counter\n",
    "\n",
    "import pandas as pd\n",
    "from Bio import SeqIO\n",
    "from Bio.Seq import Seq\n",
    "\n",
    "dataDir = \"Data\"\n",
    "genomeTreeDir = \"Genome_tree\"\n",
    "\n",
    "if not os.path.exists(genomeTreeDir):\n",
    "    os.mkdir(genomeTreeDir)"
   ]
  },
  {
   "cell_type": "code",
   "execution_count": 2,
   "metadata": {},
   "outputs": [],
   "source": [
    "df = pd.read_csv(os.path.join(dataDir, \"meta_data.csv\"))\n",
    "df[\"Collection date\"] = pd.to_datetime(df[\"Collection date\"])"
   ]
  },
  {
   "cell_type": "code",
   "execution_count": 3,
   "metadata": {},
   "outputs": [],
   "source": [
    "df[\"Area\"] = pd.Series()\n",
    "df[\"Location\"] = pd.Series()\n",
    "for index, row in df.iterrows():\n",
    "    if row[\"Country\"] == \"China\" or row[\"Country\"] == \"USA\":\n",
    "        area = row[\"Province\"].strip(' ')\n",
    "        if area == \"Guandong\":\n",
    "            area = \"Guangdong\"\n",
    "        elif area == \"Chongqinq\":\n",
    "            area = \"Chongqing\"\n",
    "        if pd.isna(row[\"City\"]):\n",
    "            location = area\n",
    "        else:\n",
    "            location = row[\"City\"].strip(' ')\n",
    "                \n",
    "    else:\n",
    "        area = row[\"Country\"].strip(' ')\n",
    "        location = row[\"Country\"].strip(' ')\n",
    "    df.loc[index, \"Area\"] = area\n",
    "    df.loc[index, \"Location\"] = location\n",
    "\n",
    "df[[\"Accession ID\", \"Location\", \"Area\", \"Country\", \"Collection date\"]].to_csv(\n",
    "    os.path.join(dataDir, \"info.csv\"),\n",
    "    sep=\",\",\n",
    "    index=False\n",
    ")"
   ]
  },
  {
   "cell_type": "code",
   "execution_count": 4,
   "metadata": {},
   "outputs": [],
   "source": [
    "metaDir = os.path.join(dataDir, \"ByArea\")\n",
    "\n",
    "if not os.path.exists(metaDir):\n",
    "    os.mkdir(metaDir)\n",
    "\n",
    "for area in df[\"Area\"].drop_duplicates():\n",
    "    df[df[\"Area\"] == area].to_csv(os.path.join(metaDir, area + \".csv\"))"
   ]
  },
  {
   "cell_type": "code",
   "execution_count": 5,
   "metadata": {},
   "outputs": [
    {
     "data": {
      "text/plain": [
       "106"
      ]
     },
     "execution_count": 5,
     "metadata": {},
     "output_type": "execute_result"
    }
   ],
   "source": [
    "outgroup = None\n",
    "earlies = None\n",
    "allSeqs = []\n",
    "genomeSeqs = []\n",
    "\n",
    "# excluded as agreed http://virological.org/t/phylodynamic-analysis-90-genomes-12-feb-2020/356/4\n",
    "excluded = [\n",
    "    \"EPI_ISL_406592\",\n",
    "    \"EPI_ISL_406595\",\n",
    "    \"EPI_ISL_408485\",\n",
    "    \"EPI_ISL_408482\",\n",
    "    \"MT039890\",\n",
    "]\n",
    "\n",
    "outgroup = \"EPI_ISL_402131\"\n",
    "\n",
    "for record in SeqIO.parse(os.path.join(dataDir, \"sequences.fasta\"), \"fasta\"):\n",
    "    ac = record.id\n",
    "    if ac not in excluded:\n",
    "        allSeqs.append(record)\n",
    "        seqSum = Counter(str(record.seq).upper())\n",
    "        if len(record) > 28000 and seqSum['N'] < 100:\n",
    "            genomeSeqs.append(record)\n",
    "\n",
    "with open(os.path.join(genomeTreeDir, \"outgroup.txt\"), 'w') as f:\n",
    "    f.write(outgroup + \"\\n\")\n",
    "# SeqIO.write(allSeqs, os.path.join(genomeTreeDir, \"all.fasta\"), \"fasta\")\n",
    "SeqIO.write(genomeSeqs, os.path.join(genomeTreeDir, \"genomes.fasta\"), \"fasta\")"
   ]
  }
 ],
 "metadata": {
  "kernelspec": {
   "display_name": "Python 3",
   "language": "python",
   "name": "python3"
  },
  "language_info": {
   "codemirror_mode": {
    "name": "ipython",
    "version": 3
   },
   "file_extension": ".py",
   "mimetype": "text/x-python",
   "name": "python",
   "nbconvert_exporter": "python",
   "pygments_lexer": "ipython3",
   "version": "3.5.3"
  }
 },
 "nbformat": 4,
 "nbformat_minor": 2
}
