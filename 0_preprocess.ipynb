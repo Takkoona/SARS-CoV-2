{
 "cells": [
  {
   "cell_type": "code",
   "execution_count": 1,
   "metadata": {},
   "outputs": [],
   "source": [
    "import os\n",
    "\n",
    "import pandas as pd\n",
    "from Bio import SeqIO\n",
    "from Bio.Seq import Seq\n",
    "\n",
    "dataDir = \"Data\"\n",
    "genomeTreeDir = \"Genome_tree\"\n",
    "\n",
    "if not os.path.exists(genomeTreeDir):\n",
    "    os.mkdir(genomeTreeDir)"
   ]
  },
  {
   "cell_type": "code",
   "execution_count": 2,
   "metadata": {},
   "outputs": [],
   "source": [
    "df = pd.read_csv(os.path.join(dataDir, \"meta_data.csv\"))\n",
    "df[\"Collection date\"] = pd.to_datetime(df[\"Collection date\"])"
   ]
  },
  {
   "cell_type": "code",
   "execution_count": 3,
   "metadata": {},
   "outputs": [],
   "source": [
    "df[\"Area\"] = pd.Series()\n",
    "for index, row in df.iterrows():\n",
    "    loc = row[\"Location\"].split(\" / \")\n",
    "    if loc[1] == \"China\":\n",
    "        country = \"China\"\n",
    "        if len(loc) > 2:\n",
    "            area = loc[2]\n",
    "            if area == \"Guandong\":\n",
    "                area = \"Guangdong\"\n",
    "        elif \"Wuhan\" in row[\"Virus name\"]:\n",
    "            area = \"Hubei\"\n",
    "        else:\n",
    "            raise ValueError(\"Not a valid location\")\n",
    "    else:\n",
    "        area = loc[1]\n",
    "        if area in (\"Taiwan\", \"Hong Kong\"):\n",
    "            country = \"China\"\n",
    "        else:\n",
    "            country = area\n",
    "    df.loc[index, \"Area\"] = area\n",
    "    df.loc[index, \"Country\"] = country\n",
    "\n",
    "df[[\"Accession ID\", \"Virus name\", \"Area\", \"Country\", \"Collection date\"]].to_csv(\n",
    "    os.path.join(dataDir, \"info.csv\"),\n",
    "    sep=\",\",\n",
    "    index=False\n",
    ")"
   ]
  },
  {
   "cell_type": "code",
   "execution_count": 4,
   "metadata": {},
   "outputs": [
    {
     "data": {
      "text/plain": [
       "89"
      ]
     },
     "execution_count": 4,
     "metadata": {},
     "output_type": "execute_result"
    }
   ],
   "source": [
    "outgroup = None\n",
    "earlies = None\n",
    "outputSeqs = []\n",
    "\n",
    "# excluded as agreed http://virological.org/t/phylodynamic-analysis-90-genomes-12-feb-2020/356/4\n",
    "excluded = [\"EPI_ISL_406592\", \"EPI_ISL_406595\"]\n",
    "\n",
    "for record in SeqIO.parse(os.path.join(dataDir, \"genomes.fasta\"), \"fasta\"):\n",
    "    if record.id != \"ZYZ\":\n",
    "        ac = record.id.split('|')[-1]\n",
    "        cd = df[df[\"Accession ID\"] == ac][\"Collection date\"].values[0]\n",
    "        if outgroup is None:\n",
    "            outgroup = ac\n",
    "            earlies = cd\n",
    "        elif cd < earlies:\n",
    "            outgroup = ac\n",
    "            earlies = cd\n",
    "        record.id = ac\n",
    "        record.description = \"\"\n",
    "        if ac not in excluded:\n",
    "            outputSeqs.append(record)\n",
    "\n",
    "with open(os.path.join(genomeTreeDir, \"outgroup.txt\"), 'w') as f:\n",
    "    f.write(outgroup + \"\\n\")\n",
    "SeqIO.write(outputSeqs, os.path.join(genomeTreeDir, \"raw.fasta\"), \"fasta\")"
   ]
  },
  {
   "cell_type": "code",
   "execution_count": 5,
   "metadata": {},
   "outputs": [
    {
     "data": {
      "text/plain": [
       "89"
      ]
     },
     "execution_count": 5,
     "metadata": {},
     "output_type": "execute_result"
    }
   ],
   "source": [
    "outputSeqs = []\n",
    "\n",
    "for record in SeqIO.parse(os.path.join(dataDir, \"aa_sequences.fasta\"), \"fasta\"):\n",
    "    if record.id != \"ZYZ\":\n",
    "        ac = record.id.split('|')[-1]\n",
    "        cd = df[df[\"Accession ID\"] == ac][\"Collection date\"].values[0]\n",
    "        if outgroup is None:\n",
    "            outgroup = ac\n",
    "            earlies = cd\n",
    "        elif cd < earlies:\n",
    "            outgroup = ac\n",
    "            earlies = cd\n",
    "        record.id = ac\n",
    "        record.description = \"\"\n",
    "        if ac not in excluded:\n",
    "            outputSeqs.append(record)\n",
    "            \n",
    "SeqIO.write(outputSeqs, os.path.join(dataDir, \"aa_sequences_2.fasta\"), \"fasta\")"
   ]
  }
 ],
 "metadata": {
  "kernelspec": {
   "display_name": "Python 3",
   "language": "python",
   "name": "python3"
  },
  "language_info": {
   "codemirror_mode": {
    "name": "ipython",
    "version": 3
   },
   "file_extension": ".py",
   "mimetype": "text/x-python",
   "name": "python",
   "nbconvert_exporter": "python",
   "pygments_lexer": "ipython3",
   "version": "3.5.3"
  }
 },
 "nbformat": 4,
 "nbformat_minor": 2
}
