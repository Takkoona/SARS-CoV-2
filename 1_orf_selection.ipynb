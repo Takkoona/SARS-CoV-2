{
 "cells": [
  {
   "cell_type": "markdown",
   "metadata": {},
   "source": [
    "## Important\n",
    "\n",
    "Run `./Scripts/alignment.sh` to make alignment before this notebook"
   ]
  },
  {
   "cell_type": "code",
   "execution_count": 1,
   "metadata": {},
   "outputs": [],
   "source": [
    "import os\n",
    "import json\n",
    "\n",
    "from Bio import SeqIO, AlignIO\n",
    "from Bio.Align import MultipleSeqAlignment\n",
    "\n",
    "genomeTreeDir = \"Genome_tree\"\n",
    "snpDir = \"SNPs\"\n",
    "dataDir = \"Data\"\n",
    "\n",
    "reference = \"EPI_ISL_402125\""
   ]
  },
  {
   "cell_type": "code",
   "execution_count": 2,
   "metadata": {},
   "outputs": [],
   "source": [
    "aligned = AlignIO.read(os.path.join(genomeTreeDir, \"aligned.fasta\"), \"fasta\")\n",
    "annoRef = SeqIO.read(os.path.join(dataDir, \"reference.gb\"), \"gb\")"
   ]
  },
  {
   "cell_type": "code",
   "execution_count": 3,
   "metadata": {},
   "outputs": [],
   "source": [
    "ref2aligned = {}\n",
    "\n",
    "for record in aligned:\n",
    "    if record.id == reference:\n",
    "        refIndex = -1\n",
    "        for alignedIndex, n in enumerate(record):\n",
    "            if n != '-':\n",
    "                refIndex += 1\n",
    "            ref2aligned[refIndex] = alignedIndex\n",
    "        break"
   ]
  },
  {
   "cell_type": "code",
   "execution_count": 4,
   "metadata": {},
   "outputs": [],
   "source": [
    "cdsAlignedIndex = []\n",
    "product_id = 0\n",
    "\n",
    "for f in annoRef.features:\n",
    "    if f.type == \"CDS\":\n",
    "        product_id += 1\n",
    "        for i in f.location.parts:\n",
    "            cdsAlignedIndex.append({\n",
    "                \"start\": ref2aligned[i.start],\n",
    "                \"end\": ref2aligned[i.end],\n",
    "                \"product_id\": product_id,\n",
    "                \"product_name\": \", \".join(f.qualifiers[\"product\"]),\n",
    "                \"ref_start\": i.start,\n",
    "                \"ref_end\": i.end\n",
    "            })"
   ]
  },
  {
   "cell_type": "code",
   "execution_count": 5,
   "metadata": {},
   "outputs": [],
   "source": [
    "alignedCDS = None\n",
    "cdsPos = 0\n",
    "cdsAnno = {}\n",
    "\n",
    "for loc in cdsAlignedIndex:\n",
    "    cdsSeq = aligned[:, loc[\"start\"]:loc[\"end\"]]\n",
    "    if alignedCDS is None:\n",
    "        alignedCDS = cdsSeq\n",
    "    else:\n",
    "        alignedCDS += cdsSeq\n",
    "    for pos in range(loc[\"ref_start\"] + 1, loc[\"ref_end\"] + 1):\n",
    "        cdsPos += 1\n",
    "        cdsAnno[cdsPos] = {\n",
    "            \"pos\": pos, \"product_id\": loc[\"product_id\"],\n",
    "            \"product_name\": loc[\"product_name\"]\n",
    "        }\n",
    "\n",
    "AlignIO.write(alignedCDS, os.path.join(genomeTreeDir, \"aligned_cds.fasta\"), \"fasta\")\n",
    "\n",
    "with open(os.path.join(snpDir, \"cds_product.json\"), 'w') as f:\n",
    "    json.dump(cdsAnno, f, indent=4)"
   ]
  },
  {
   "cell_type": "code",
   "execution_count": 6,
   "metadata": {},
   "outputs": [
    {
     "data": {
      "text/plain": [
       "29133"
      ]
     },
     "execution_count": 6,
     "metadata": {},
     "output_type": "execute_result"
    }
   ],
   "source": [
    "alignedCDS.get_alignment_length()"
   ]
  },
  {
   "cell_type": "code",
   "execution_count": 7,
   "metadata": {},
   "outputs": [],
   "source": [
    "# alignedAA = None\n",
    "\n",
    "# for record in alignedCDS:\n",
    "#     aa = record.translate(gap='-', id=record.id, description=\"\")\n",
    "#     print(record.id)\n",
    "#     if alignedAA is None:\n",
    "#         alignedAA = MultipleSeqAlignment([aa])\n",
    "#     else:\n",
    "#         alignedAA.add_sequence(record.id, str(aa.seq))"
   ]
  }
 ],
 "metadata": {
  "kernelspec": {
   "display_name": "Python 3",
   "language": "python",
   "name": "python3"
  },
  "language_info": {
   "codemirror_mode": {
    "name": "ipython",
    "version": 3
   },
   "file_extension": ".py",
   "mimetype": "text/x-python",
   "name": "python",
   "nbconvert_exporter": "python",
   "pygments_lexer": "ipython3",
   "version": "3.5.3"
  }
 },
 "nbformat": 4,
 "nbformat_minor": 2
}
