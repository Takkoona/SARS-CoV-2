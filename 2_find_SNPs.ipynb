{
 "cells": [
  {
   "cell_type": "code",
   "execution_count": 1,
   "metadata": {},
   "outputs": [],
   "source": [
    "import os\n",
    "from collections import Counter, defaultdict\n",
    "from io import StringIO\n",
    "\n",
    "import pandas as pd\n",
    "from Bio import SeqIO, AlignIO\n",
    "from Bio.Align import MultipleSeqAlignment\n",
    "from matplotlib import pyplot as plt\n",
    "\n",
    "genomeTreeDir = \"Genome_tree\"\n",
    "snpDir = \"SNPs\"\n",
    "dataDir = \"Data\"\n",
    "\n",
    "if not os.path.exists(snpDir):\n",
    "    os.mkdir(snpDir)\n",
    "\n",
    "exclude = \"EPI_ISL_402131\"\n",
    "ancestral = \"EPI_ISL_402123\"\n",
    "reference = \"EPI_ISL_402125\""
   ]
  },
  {
   "cell_type": "code",
   "execution_count": 2,
   "metadata": {},
   "outputs": [],
   "source": [
    "outSeqs = []\n",
    "\n",
    "for record in SeqIO.parse(os.path.join(genomeTreeDir, \"aligned.fasta\"), \"fasta\"):\n",
    "    if record.id != exclude:\n",
    "        outSeqs.append(record)\n",
    "        \n",
    "handle = StringIO()\n",
    "SeqIO.write(outSeqs, handle, \"fasta\")\n",
    "\n",
    "aligned = AlignIO.read(StringIO(handle.getvalue()), \"fasta\")\n",
    "annoRef = SeqIO.read(os.path.join(dataDir, \"reference.gb\"), \"gb\")"
   ]
  },
  {
   "cell_type": "code",
   "execution_count": 3,
   "metadata": {},
   "outputs": [],
   "source": [
    "ref2aligned = {}\n",
    "\n",
    "for record in aligned:\n",
    "    if record.id == reference:\n",
    "        refIndex = -1\n",
    "        for alignedIndex, n in enumerate(record):\n",
    "            if n != '-':\n",
    "                refIndex += 1\n",
    "            ref2aligned[refIndex] = alignedIndex\n",
    "        break"
   ]
  },
  {
   "cell_type": "code",
   "execution_count": 4,
   "metadata": {},
   "outputs": [],
   "source": [
    "cdsAlignedIndex = []\n",
    "product = 0\n",
    "\n",
    "for f in annoRef.features:\n",
    "    if f.type == \"CDS\":\n",
    "        product += 1\n",
    "        for i in f.location.parts:\n",
    "            cdsAlignedIndex.append({\n",
    "                \"start\": ref2aligned[i.start],\n",
    "                \"end\": ref2aligned[i.end],\n",
    "                \"product\": product\n",
    "            })"
   ]
  },
  {
   "cell_type": "code",
   "execution_count": 5,
   "metadata": {},
   "outputs": [
    {
     "data": {
      "text/plain": [
       "1"
      ]
     },
     "execution_count": 5,
     "metadata": {},
     "output_type": "execute_result"
    }
   ],
   "source": [
    "alignedCDS = None\n",
    "\n",
    "for loc in cdsAlignedIndex:\n",
    "    cdsSeq = aligned[:, loc[\"start\"]:loc[\"end\"]]\n",
    "    if alignedCDS is None:\n",
    "        alignedCDS = cdsSeq\n",
    "    else:\n",
    "        alignedCDS += cdsSeq\n",
    "\n",
    "AlignIO.write(alignedCDS, os.path.join(genomeTreeDir, \"aligned_cds.fasta\"), \"fasta\")"
   ]
  },
  {
   "cell_type": "code",
   "execution_count": 6,
   "metadata": {},
   "outputs": [],
   "source": [
    "alignedAA = None\n",
    "indexedAlignedCDS = {}\n",
    "\n",
    "for record in alignedCDS:\n",
    "    indexedAlignedCDS[record.id] = record\n",
    "#     aa = record.translate(gap='-', id=record.id, description=\"\")\n",
    "#     print(record.id)\n",
    "#     if alignedAA is None:\n",
    "#         alignedAA = MultipleSeqAlignment([aa])\n",
    "#     else:\n",
    "#         alignedAA.add_sequence(record.id, str(aa.seq))"
   ]
  },
  {
   "cell_type": "code",
   "execution_count": 7,
   "metadata": {
    "scrolled": false
   },
   "outputs": [],
   "source": [
    "snp = pd.DataFrame(columns=(\"pos\", \"ref\", \"A\", \"T\", \"G\", \"C\", \"gap\", \"unknown\"))\n",
    "\n",
    "alignedAnc = None\n",
    "for record in alignedCDS:\n",
    "    if record.id == ancestral:\n",
    "        alignedAnc = record\n",
    "        break\n",
    "\n",
    "for i in range(alignedCDS.get_alignment_length()):\n",
    "    aaSum = Counter(alignedCDS[:, i])\n",
    "    if len(aaSum) > 1 and max(aaSum.values()) < len(alignedCDS) - 1:\n",
    "        row = pd.Series(data={\n",
    "            \"pos\": i + 1, \"ref\": alignedAnc[i].upper(),\n",
    "            \"A\": aaSum[\"a\"], \"T\": aaSum[\"t\"],\n",
    "            \"G\": aaSum[\"g\"], \"C\": aaSum[\"c\"],\n",
    "            \"gap\": aaSum[\"-\"], \"unknown\": aaSum[\"n\"]\n",
    "        })\n",
    "        snp = snp.append(row, ignore_index=True)\n",
    "        \n",
    "snp.to_csv(os.path.join(snpDir, \"all.csv\"), index=False)"
   ]
  },
  {
   "cell_type": "code",
   "execution_count": 8,
   "metadata": {},
   "outputs": [],
   "source": [
    "info = pd.read_csv(os.path.join(dataDir, \"info.csv\"))"
   ]
  },
  {
   "cell_type": "code",
   "execution_count": 9,
   "metadata": {},
   "outputs": [],
   "source": [
    "groupByArea = defaultdict(list)\n",
    "accessions = list(indexedAlignedCDS.keys())\n",
    "\n",
    "for index, row in info[[\"Accession ID\", \"Area\"]].iterrows():\n",
    "    if row[\"Accession ID\"] in accessions:\n",
    "        groupByArea[row[\"Area\"]].append(row[\"Accession ID\"])"
   ]
  },
  {
   "cell_type": "code",
   "execution_count": 10,
   "metadata": {},
   "outputs": [],
   "source": [
    "snpByArea = {}\n",
    "\n",
    "for area, acList in groupByArea.items():\n",
    "    localAlignedCDS = None\n",
    "    for ac in acList:\n",
    "        record = indexedAlignedCDS[ac]\n",
    "        if localAlignedCDS is None:\n",
    "            localAlignedCDS = MultipleSeqAlignment([record])\n",
    "        else:\n",
    "            localAlignedCDS.add_sequence(record.id, str(record.seq))\n",
    "    \n",
    "    localSNP = pd.DataFrame(columns=(\"pos\", \"ref\", \"A\", \"T\", \"G\", \"C\", \"gap\", \"unknown\"))\n",
    "    for pos in snp[\"pos\"]:\n",
    "        i = pos - 1\n",
    "        aaSum = Counter(localAlignedCDS[:, i])\n",
    "        if alignedAnc[i] not in aaSum or aaSum[alignedAnc[i]] < len(localAlignedCDS):\n",
    "            row = pd.Series(data={\n",
    "                \"pos\": i + 1, \"ref\": alignedAnc[i].upper(),\n",
    "                \"A\": aaSum[\"a\"], \"T\": aaSum[\"t\"],\n",
    "                \"G\": aaSum[\"g\"], \"C\": aaSum[\"c\"],\n",
    "                \"gap\": aaSum[\"-\"], \"unknown\": aaSum[\"n\"]\n",
    "            })\n",
    "            localSNP = localSNP.append(row, ignore_index=True)\n",
    "    if not localSNP.empty:\n",
    "        snpByArea[area] = localSNP"
   ]
  },
  {
   "cell_type": "code",
   "execution_count": 30,
   "metadata": {},
   "outputs": [],
   "source": [
    "def snpSummary(areaSNP):\n",
    "    for index, row in areaSNP.iterrows():\n",
    "        areaSNP.loc[index, row[\"ref\"]] = 0\n",
    "    area = areaSNP[[\"pos\", \"A\", \"T\", \"G\", \"C\"]].melt(id_vars=\"pos\")\n",
    "    area = area[area[\"value\"] != 0]\n",
    "    res = defaultdict(list)\n",
    "    for index, row in area.iterrows():\n",
    "        res[row[\"pos\"]].append(row[\"variable\"])\n",
    "    return(res)"
   ]
  },
  {
   "cell_type": "code",
   "execution_count": 31,
   "metadata": {},
   "outputs": [],
   "source": [
    "hubeiSNP = snpSummary(snpByArea[\"Hubei\"])\n",
    "parallelSNP = defaultdict(list)\n",
    "\n",
    "for area, localSNP in snpByArea.items():\n",
    "    if area != \"Hubei\":\n",
    "        areaSNP = snpSummary(localSNP)\n",
    "        for pos in areaSNP:\n",
    "            if pos in hubeiSNP:\n",
    "                for n in areaSNP[pos]:\n",
    "                    if n not in hubeiSNP[pos]:\n",
    "                        parallelSNP[(pos, n)].append(area)\n",
    "            else:\n",
    "                for n in areaSNP[pos]:\n",
    "                    parallelSNP[(pos, n)].append(area)"
   ]
  },
  {
   "cell_type": "code",
   "execution_count": 35,
   "metadata": {},
   "outputs": [
    {
     "name": "stdout",
     "output_type": "stream",
     "text": [
      "28337 T ['Guangdong', 'USA']\n",
      "25865 T ['Australia', 'USA', 'France', 'Taiwan']\n"
     ]
    }
   ],
   "source": [
    "for (pos, n), areas in parallelSNP.items():\n",
    "    if len(areas) >= 2 and pos % 3 == 2:\n",
    "        print(pos, n, areas)"
   ]
  },
  {
   "cell_type": "code",
   "execution_count": 32,
   "metadata": {
    "scrolled": false
   },
   "outputs": [
    {
     "name": "stdout",
     "output_type": "stream",
     "text": [
      "21436 T ['Guangdong', 'USA']\n",
      "27574 C ['USA', 'Vietnam', 'Sichuan']\n",
      "28786 T ['Guangdong', 'Japan']\n"
     ]
    }
   ],
   "source": [
    "for (pos, n), areas in parallelSNP.items():\n",
    "    if len(areas) >= 2 and pos % 3 == 1:\n",
    "        print(pos, n, areas)"
   ]
  }
 ],
 "metadata": {
  "kernelspec": {
   "display_name": "Python 3",
   "language": "python",
   "name": "python3"
  },
  "language_info": {
   "codemirror_mode": {
    "name": "ipython",
    "version": 3
   },
   "file_extension": ".py",
   "mimetype": "text/x-python",
   "name": "python",
   "nbconvert_exporter": "python",
   "pygments_lexer": "ipython3",
   "version": "3.5.3"
  }
 },
 "nbformat": 4,
 "nbformat_minor": 2
}
