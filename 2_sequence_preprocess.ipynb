{
 "cells": [
  {
   "cell_type": "code",
   "execution_count": 1,
   "metadata": {},
   "outputs": [],
   "source": [
    "import os\n",
    "\n",
    "import pandas as pd\n",
    "from Bio import SeqIO"
   ]
  },
  {
   "cell_type": "code",
   "execution_count": 2,
   "metadata": {},
   "outputs": [],
   "source": [
    "dataDir = \"Data\""
   ]
  },
  {
   "cell_type": "code",
   "execution_count": 3,
   "metadata": {},
   "outputs": [],
   "source": [
    "df = pd.read_csv(os.path.join(dataDir, \"meta_data_0212.csv\"))\n",
    "df[\"Collection date\"] = pd.to_datetime(df[\"Collection date\"])"
   ]
  },
  {
   "cell_type": "code",
   "execution_count": 4,
   "metadata": {},
   "outputs": [
    {
     "data": {
      "text/plain": [
       "89"
      ]
     },
     "execution_count": 4,
     "metadata": {},
     "output_type": "execute_result"
    }
   ],
   "source": [
    "genomeTreeDir = \"Genome_tree\"\n",
    "if not os.path.exists(genomeTreeDir):\n",
    "    os.mkdir(genomeTreeDir)\n",
    "\n",
    "# excluded as agreed http://virological.org/t/phylodynamic-analysis-90-genomes-12-feb-2020/356/4\n",
    "excluded = [\"EPI_ISL_406592\", \"EPI_ISL_406595\"]\n",
    "\n",
    "outgroup = None\n",
    "earlies = None\n",
    "outputSeqs = []\n",
    "outputSeqs2 = []\n",
    "\n",
    "for record in SeqIO.parse(os.path.join(dataDir, \"Seq_combine_0211.fasta\"), \"fasta\"):\n",
    "    if record.id != \"ZYZ\":\n",
    "        ac = record.id.split('|')[-1]\n",
    "        cd = df[df[\"Accession ID\"] == ac][\"Collection date\"].values[0]\n",
    "        if outgroup is None:\n",
    "            outgroup = ac\n",
    "            earlies = cd\n",
    "        elif cd < earlies:\n",
    "            outgroup = ac\n",
    "            earlies = cd\n",
    "        record.id = ac\n",
    "        record.description = \"\"\n",
    "        outputSeqs.append(record)\n",
    "        if ac not in excluded:\n",
    "            outputSeqs2.append(record)\n",
    "\n",
    "with open(os.path.join(genomeTreeDir, \"outgroup.txt\"), 'w') as f:\n",
    "    f.write(outgroup + \"\\n\")\n",
    "SeqIO.write(outputSeqs, os.path.join(genomeTreeDir, \"raw.fasta\"), \"fasta\")\n",
    "SeqIO.write(outputSeqs2, os.path.join(genomeTreeDir, \"raw2.fasta\"), \"fasta\")"
   ]
  }
 ],
 "metadata": {
  "kernelspec": {
   "display_name": "Python 3",
   "language": "python",
   "name": "python3"
  },
  "language_info": {
   "codemirror_mode": {
    "name": "ipython",
    "version": 3
   },
   "file_extension": ".py",
   "mimetype": "text/x-python",
   "name": "python",
   "nbconvert_exporter": "python",
   "pygments_lexer": "ipython3",
   "version": "3.5.3"
  }
 },
 "nbformat": 4,
 "nbformat_minor": 2
}
