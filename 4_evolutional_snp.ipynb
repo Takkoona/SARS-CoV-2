{
 "cells": [
  {
   "cell_type": "code",
   "execution_count": 1,
   "metadata": {},
   "outputs": [
    {
     "name": "stderr",
     "output_type": "stream",
     "text": [
      "Warning message:\n",
      "\"package 'jsonlite' was built under R version 3.6.2\"\n"
     ]
    }
   ],
   "source": [
    "library(ggplot2)\n",
    "library(jsonlite)\n",
    "library(ape)\n",
    "suppressPackageStartupMessages(library(ggtree))\n",
    "suppressPackageStartupMessages(library(Rgraphviz))\n",
    "\n",
    "dataDir <- \"Data\"\n",
    "genomeTreeDir <- \"Genome_tree\"\n",
    "snpDir <- \"SNPs\"\n",
    "figureDir <- \"Figures\""
   ]
  },
  {
   "cell_type": "code",
   "execution_count": 2,
   "metadata": {},
   "outputs": [],
   "source": [
    "dir.create(figureDir, showWarnings = FALSE)"
   ]
  },
  {
   "cell_type": "code",
   "execution_count": 3,
   "metadata": {},
   "outputs": [],
   "source": [
    "tree <- read.tree(file.path(genomeTreeDir, \"RAxML_bestTree.GTRGAMMA\"))\n",
    "info <- read.csv(file.path(dataDir, \"info.csv\"))\n",
    "allSNP <- read.csv(file.path(snpDir, \"all.csv\"))\n",
    "genotypes <- read_json(file.path(dataDir, \"genotypes.json\"))"
   ]
  },
  {
   "cell_type": "code",
   "execution_count": 4,
   "metadata": {},
   "outputs": [],
   "source": [
    "info <- info[complete.cases(info), ]\n",
    "\n",
    "root2tipDist <- data.frame(\n",
    "    \"Dist\" = node.depth.edgelength(tree)[1:length(tree$tip.label)],\n",
    "    \"Accession.ID\" = tree$tip.label\n",
    ")\n",
    "\n",
    "info <- merge(info, root2tipDist, by = \"Accession.ID\")"
   ]
  },
  {
   "cell_type": "code",
   "execution_count": 5,
   "metadata": {},
   "outputs": [],
   "source": [
    "info[[\"Genotype\"]] <- NULL\n",
    "\n",
    "for (gp in names(genotypes)) {\n",
    "    for (id in genotypes[[gp]]) {\n",
    "        info[which(info$Accession.ID == id), \"Genotype\"] <- gp\n",
    "    }\n",
    "}"
   ]
  },
  {
   "cell_type": "code",
   "execution_count": 44,
   "metadata": {},
   "outputs": [
    {
     "name": "stderr",
     "output_type": "stream",
     "text": [
      "Saving 10 x 6.67 in image\n",
      "\n"
     ]
    },
    {
     "data": {
      "image/png": "[encoded data removed]",
      "text/plain": [
       "plot without title"
      ]
     },
     "metadata": {
      "image/png": {
       "height": 420,
       "width": 420
      },
      "text/plain": {
       "height": 420,
       "width": 420
      }
     },
     "output_type": "display_data"
    }
   ],
   "source": [
    "p <- ggtree(tree)\n",
    "p <- p %<+% info + \n",
    "    geom_tiplab(size = 0.75) + \n",
    "    geom_tippoint(aes(color=Genotype)) +\n",
    "    theme(legend.position = \"right\")\n",
    "# p\n",
    "snp_data <- allSNP[, c(\"Accession.ID\", \"Pos\")]\n",
    "p <- p + geom_facet(\n",
    "    panel = \"SNP\",\n",
    "    data = snp_data,\n",
    "    geom = geom_point,\n",
    "    mapping=aes(x = Pos, color=Genotype),\n",
    "    shape = 18\n",
    ") + \n",
    "# theme(\n",
    "# ) +\n",
    "theme_tree2(\n",
    "    strip.background = element_blank(),\n",
    "    strip.text.x = element_blank(),\n",
    "    axis.text.x = element_text(angle = 90, vjust = 0.5, size = 3)\n",
    ") +\n",
    "scale_x_continuous(snp_data$Pos, labels = snp_data$Pos, breaks = snp_data$Pos)\n",
    "print(p)\n",
    "\n",
    "ggsave(filename = file.path(figureDir, \"figure2.png\"), plot = p, width = 10)"
   ]
  },
  {
   "cell_type": "code",
   "execution_count": 7,
   "metadata": {},
   "outputs": [],
   "source": [
    "snp <- allSNP[, c(\"Accession.ID\", \"Pos\", \"SNP\", \"Product\")]\n",
    "snp <- merge(snp, info, by = \"Accession.ID\")\n",
    "snp[\"isHubei\"] <- factor(c(\"non-Hubei\", \"Hubei\")[(as.character(snp$Area) == \"Hubei\") + 1])\n",
    "levels(snp$Accession.ID) <- as.character(snp$Accession.ID[order(snp$Dist)])"
   ]
  },
  {
   "cell_type": "code",
   "execution_count": 13,
   "metadata": {},
   "outputs": [
    {
     "name": "stderr",
     "output_type": "stream",
     "text": [
      "Saving 6.67 x 6.67 in image\n",
      "\n"
     ]
    },
    {
     "data": {
      "image/png": "[encoded data removed]",
      "text/plain": [
       "plot without title"
      ]
     },
     "metadata": {
      "image/png": {
       "height": 420,
       "width": 420
      },
      "text/plain": {
       "height": 420,
       "width": 420
      }
     },
     "output_type": "display_data"
    }
   ],
   "source": [
    "p <- ggplot(snp, aes(x = Accession.ID, y = Pos, fill = SNP)) +\n",
    "    geom_dotplot(binaxis = \"y\", binwidth = 1, dotsize = 250) +\n",
    "#     xlim(seq_len(0, 21399)) +\n",
    "    coord_flip() +\n",
    "    ylab(\"\") + xlab(\"\") +\n",
    "    facet_wrap( ~ isHubei, nrow = 2, scales = \"free_y\") +\n",
    "    theme(panel.grid.major = element_line(colour=\"grey\", size = 0.1), \n",
    "          panel.grid.major.x = element_blank(),\n",
    "          panel.grid.minor.x = element_blank(),\n",
    "          panel.background = element_rect(fill = NA),\n",
    "          axis.text.x=element_blank(),\n",
    "          axis.ticks.x=element_blank(),\n",
    "          axis.text.y=element_text(size=5, face=\"bold\"))\n",
    "print(p)\n",
    "\n",
    "ggsave(filename = file.path(figureDir, \"figure3.png\"), plot = p)"
   ]
  },
  {
   "cell_type": "code",
   "execution_count": 9,
   "metadata": {},
   "outputs": [],
   "source": [
    "# suppressPackageStartupMessages(library(network))\n",
    "# suppressPackageStartupMessages(library(sna))\n",
    "# suppressPackageStartupMessages(library(GGally))\n",
    "\n",
    "# weighted adjacency matrix\n",
    "# bip = data.frame(\n",
    "#     \"source\" = c(\"Hubei\", \"Chongqing\", \"Jiangsu\", \"Beijing\", \"Guangzhou\"),\n",
    "#     \"end\" = c(\"Chongqing\", \"Jiangsu\", \"Beijing\", \"Guangzhou\", \"Jiangsu\"),\n",
    "#     \"mutation\" = c(\"A1242C\", \"A1242C\", \"A1242C\", \"A1242C\", \"A1242C\"),\n",
    "#     \"type\" = c(\"nonsynonymous\", \"nonsynonymous\", \"synonymous\", \"synonymous\", \"synonymous\")\n",
    "# )\n",
    "# bip\n",
    "# ggnet2(\n",
    "#     network(bip, matrix.type = \"edgelist\"),\n",
    "#     label = TRUE,\n",
    "#     edge.label = bip$mutation,\n",
    "#     arrow.size = 12,\n",
    "#     arrow.gap = 0.025\n",
    "# )"
   ]
  },
  {
   "cell_type": "code",
   "execution_count": 10,
   "metadata": {},
   "outputs": [],
   "source": [
    "# require(maps)\n",
    "# require(mapdata)\n",
    "# library(ggplot2)\n",
    "# library(ggrepel)\n",
    "\n",
    "# cities = c(\"Beijing\",\"Shanghai\")\n",
    "\n",
    "# global <- map_data(\"world\")\n",
    "# ggplot() + geom_polygon(data = global, aes(x=long, y = lat, group = group)) + coord_fixed(1.3)\n",
    "\n",
    "# ggplot() + geom_polygon(data = global, aes(x=long, y = lat, group = group), fill = NA, color = \"red\") + coord_fixed(1.3)\n",
    "\n",
    "# gg1 <- ggplot() + geom_polygon(data = global, aes(x=long, y = lat, group = group), fill = \"green\", color = \"blue\") +\n",
    "#     coord_fixed(1.3)\n",
    "# gg1\n",
    "\n",
    "# coors <- data.frame( long = c(122.064873,121.4580600), lat = c(36.951968,31.2222200),\n",
    "# stringsAsFactors = FALSE\n",
    "# )"
   ]
  }
 ],
 "metadata": {
  "kernelspec": {
   "display_name": "R",
   "language": "R",
   "name": "ir"
  },
  "language_info": {
   "codemirror_mode": "r",
   "file_extension": ".r",
   "mimetype": "text/x-r-source",
   "name": "R",
   "pygments_lexer": "r",
   "version": "3.6.1"
  }
 },
 "nbformat": 4,
 "nbformat_minor": 2
}
