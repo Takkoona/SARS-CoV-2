{
 "cells": [
  {
   "cell_type": "code",
   "execution_count": 1,
   "metadata": {},
   "outputs": [
    {
     "name": "stderr",
     "output_type": "stream",
     "text": [
      "Warning message:\n",
      "\"package 'jsonlite' was built under R version 3.6.2\"\n",
      "Warning message:\n",
      "\"package 'pheatmap' was built under R version 3.6.2\"\n",
      "Warning message:\n",
      "\"package 'reshape2' was built under R version 3.6.2\"\n",
      "Loading required package: viridisLite\n",
      "\n",
      "Warning message:\n",
      "\"package 'S4Vectors' was built under R version 3.6.2\"\n",
      "Warning message:\n",
      "\"package 'IRanges' was built under R version 3.6.2\"\n"
     ]
    }
   ],
   "source": [
    "library(ape)\n",
    "library(jsonlite)\n",
    "library(pheatmap)\n",
    "library(reshape2)\n",
    "library(ggplot2)\n",
    "library(RColorBrewer)\n",
    "library(viridis)\n",
    "suppressPackageStartupMessages(library(ggtree))\n",
    "suppressPackageStartupMessages(library(Biostrings))\n",
    "\n",
    "dataDir <- \"Data\"\n",
    "genomeTreeDir <- \"Genome_tree\"\n",
    "snpDir <- \"SNPs\"\n",
    "figureDir <- \"Figures\""
   ]
  },
  {
   "cell_type": "code",
   "execution_count": 2,
   "metadata": {},
   "outputs": [],
   "source": [
    "dir.create(figureDir, showWarnings = FALSE)"
   ]
  },
  {
   "cell_type": "code",
   "execution_count": 3,
   "metadata": {},
   "outputs": [],
   "source": [
    "tree <- read.tree(file.path(genomeTreeDir, \"RAxML_bestTree.GTRGAMMA\"))\n",
    "info <- read.csv(file.path(dataDir, \"info.csv\"))\n",
    "allSNP <- read.csv(file.path(snpDir, \"all.csv\"))\n",
    "genotypes <- read_json(file.path(dataDir, \"genotypes.json\"))"
   ]
  },
  {
   "cell_type": "code",
   "execution_count": 4,
   "metadata": {},
   "outputs": [],
   "source": [
    "info <- info[complete.cases(info), ]\n",
    "\n",
    "root2tipDist <- data.frame(\n",
    "    \"Dist\" = node.depth.edgelength(tree)[1:length(tree$tip.label)],\n",
    "    \"Accession.ID\" = tree$tip.label\n",
    ")\n",
    "\n",
    "info <- merge(info, root2tipDist, by = \"Accession.ID\")"
   ]
  },
  {
   "cell_type": "code",
   "execution_count": 5,
   "metadata": {},
   "outputs": [],
   "source": [
    "info[[\"Genotype\"]] <- NULL\n",
    "\n",
    "for (gp in names(genotypes)) {\n",
    "    for (id in genotypes[[gp]]) {\n",
    "        info[which(info$Accession.ID == id), \"Genotype\"] <- gp\n",
    "    }\n",
    "}"
   ]
  },
  {
   "cell_type": "code",
   "execution_count": 6,
   "metadata": {},
   "outputs": [
    {
     "name": "stderr",
     "output_type": "stream",
     "text": [
      "Saving 6.67 x 6.67 in image\n",
      "\n"
     ]
    },
    {
     "data": {
      "image/png": "[encoded data removed]",
      "text/plain": [
       "plot without title"
      ]
     },
     "metadata": {
      "image/png": {
       "height": 420,
       "width": 420
      },
      "text/plain": {
       "height": 420,
       "width": 420
      }
     },
     "output_type": "display_data"
    }
   ],
   "source": [
    "p <- ggtree(tree)\n",
    "p <- p %<+% info + \n",
    "    geom_tiplab(size = 1, hjust = -0.1) + \n",
    "    geom_tippoint(aes(color=Genotype)) +\n",
    "    geom_treescale(x=0.00027, y=0, offset=0) +\n",
    "    theme(legend.position = \"right\")\n",
    "\n",
    "snp_data <- allSNP[, c(\"Accession.ID\", \"Pos\")]\n",
    "p <- p + geom_facet(\n",
    "    panel = \"SNP\",\n",
    "    data = snp_data,\n",
    "    geom = geom_point,\n",
    "    mapping=aes(x = Pos, color=Genotype),\n",
    "    shape = 18\n",
    ") +\n",
    "theme_tree2(\n",
    "    strip.background = element_blank(),\n",
    "    strip.text.x = element_blank(),\n",
    "#     axis.text.x = element_text(angle = 90, vjust = 0.5, size = 3)\n",
    ")\n",
    "# scale_x_continuous(snp_data$Pos, labels = snp_data$Pos, breaks = snp_data$Pos)\n",
    "\n",
    "print(p)\n",
    "\n",
    "ggsave(filename = file.path(figureDir, \"figure1.pdf\"), plot = p, device = \"pdf\")"
   ]
  },
  {
   "cell_type": "code",
   "execution_count": 7,
   "metadata": {},
   "outputs": [
    {
     "name": "stderr",
     "output_type": "stream",
     "text": [
      "Saving 6.67 x 20 in image\n",
      "\n"
     ]
    }
   ],
   "source": [
    "snp <- allSNP[, c(\"Accession.ID\", \"Pos\", \"SNP\", \"Product\")]\n",
    "snp <- merge(snp, info, by = \"Accession.ID\", all.x = TRUE)\n",
    "snp[\"isHubei\"] <- factor(c(\"non-Hubei\", \"Hubei\")[(as.character(snp$Area) == \"Hubei\") + 1])\n",
    "# levels(snp$Accession.ID) <- as.character(snp$Accession.ID[order(snp$Area)])\n",
    "snp$Area_ID <- as.integer(snp$Area)\n",
    "\n",
    "p <- ggplot(snp, aes(x = reorder(Accession.ID, Area_ID), y = Pos, fill = SNP)) +\n",
    "    geom_dotplot(binaxis = \"y\", binwidth = 1, dotsize = 250) +\n",
    "#     xlim(seq_len(0, 21399)) +\n",
    "    coord_flip() +\n",
    "    ylim(0, 29133) +\n",
    "    ylab(\"\") + xlab(\"\") +\n",
    "    facet_wrap( ~ Area, nrow = length(unique(snp$Area)), scales = \"free_y\") +\n",
    "    theme(panel.grid.major = element_line(colour=\"grey\", size = 0.1), \n",
    "          panel.grid.major.x = element_blank(),\n",
    "          panel.grid.minor.x = element_blank(),\n",
    "          panel.background = element_rect(fill = NA),\n",
    "          axis.text.x=element_blank(),\n",
    "          axis.ticks.x=element_blank(),\n",
    "          axis.text.y=element_text(size=5, face=\"bold\"))\n",
    "# print(p)\n",
    "\n",
    "ggsave(filename = file.path(figureDir, \"figure2.pdf\"), plot = p, height = 20, device = \"pdf\")"
   ]
  },
  {
   "cell_type": "code",
   "execution_count": 8,
   "metadata": {},
   "outputs": [],
   "source": [
    "forlabeling <- unique(snp[, c(\"Accession.ID\", \"Area\", \"Genotype\")])\n",
    "forlabeling <- lapply(split(forlabeling, forlabeling$Genotype), function(i) {\n",
    "    res <- i[order(i[[\"Area\"]]), ]\n",
    "    res\n",
    "})\n",
    "# for (gp in names(forlabeling)) {\n",
    "#     write.csv(forlabeling[[gp]], file.path(snpDir, paste0(gp, \"SNParea.csv\")))\n",
    "# }"
   ]
  },
  {
   "cell_type": "code",
   "execution_count": 22,
   "metadata": {},
   "outputs": [],
   "source": [
    "seqs <- readDNAMultipleAlignment(file.path(genomeTreeDir, \"aligned_cds.fasta\"))\n",
    "seqs <- as.character(seqs)\n",
    "\n",
    "aaMut <- as.data.frame(t(apply(allSNP, 1, function(row) {\n",
    "    accession <- row[[\"Accession.ID\"]]\n",
    "    pos <- as.integer(row[[\"Pos\"]])\n",
    "    shift <- pos %% 3\n",
    "    if (shift == 0) {\n",
    "        codon <- substr(seqs[[accession]], pos - 2, pos)\n",
    "        refCodon <- paste0(substr(codon, 1, 2), row[[\"Ref\"]])\n",
    "    } else if (shift == 1) {\n",
    "        codon <- substr(seqs[[accession]], pos, pos + 2)\n",
    "        refCodon <- paste0(row[[\"Ref\"]], substr(codon, 2, 3))\n",
    "    } else {\n",
    "        codon <- substr(seqs[[accession]], pos - 1, pos + 1)\n",
    "        refCodon <- paste0(substr(codon, 1, 1), row[[\"Ref\"]], substr(codon, 3, 3))\n",
    "    }\n",
    "    \n",
    "    aa <- GENETIC_CODE[[codon]]\n",
    "    refAA <- GENETIC_CODE[[refCodon]]\n",
    "    \n",
    "    aaPos <- ceiling(pos / 3)\n",
    "    \n",
    "    c(row[[\"Accession.ID\"]], aa, refAA, codon, refCodon, aaPos, row[[\"Product\"]], row[[\"Product.ID\"]])\n",
    "})), stringsAsFactors = FALSE)\n",
    "\n",
    "colnames(aaMut) <- c(\"Accession.ID\", \"mutAA\", \"refAA\", \"codon\", \"refCodon\", \"aaPos\", \"Product\", \"Product.ID\")\n",
    "# write.csv(aaMut, file.path(snpDir, \"amino_acid.csv\"), row.names = FALSE)\n",
    "\n",
    "aaMut <- aaMut[which(aaMut$mutAA != aaMut$refAA), c(\"Accession.ID\", \"mutAA\", \"refAA\", \"aaPos\", \"Product\", \"Product.ID\")]\n",
    "aaSubStrain <- info[which(info[[\"Accession.ID\"]] %in% aaMut[[\"Accession.ID\"]]), ]"
   ]
  },
  {
   "cell_type": "code",
   "execution_count": 23,
   "metadata": {},
   "outputs": [],
   "source": [
    "aaSubNames <- dcast(aaMut[, c(\"Accession.ID\", \"aaPos\", \"refAA\")], Accession.ID ~ aaPos, value.var = \"refAA\")\n",
    "aaSubNames[is.na(aaSubNames)] <- \".\"\n",
    "row.names(aaSubNames) <- aaSubNames$Accession.ID\n",
    "aaSubNames <- aaSubNames[, -1]\n",
    "aaSubNames <- aaSubNames[, order(as.integer(colnames(aaSubNames)))]\n",
    "\n",
    "ancAAnames <- data.frame(t(unique(aaMut[, c(\"aaPos\", \"refAA\")])[[\"refAA\"]]))\n",
    "colnames(ancAAnames) <- colnames(aaSubNames)\n",
    "rownames(ancAAnames) <- \"Ancestral\"\n",
    "\n",
    "aaSubMatNames <- rbind(ancAAnames, aaSubNames)\n",
    "\n",
    "# for (i in seq_len(ncol(aaSubMatNames))) {\n",
    "#     aaSubMatNames[is.na(aaSubMatNames[, i]), i] <- aaSubMatNames[\"Ancestral\", i]\n",
    "# }"
   ]
  },
  {
   "cell_type": "code",
   "execution_count": 24,
   "metadata": {},
   "outputs": [],
   "source": [
    "gp1aaNames <- aaSubMatNames[as.character(aaSubStrain[which(aaSubStrain[[\"Genotype\"]] == \"gp1\"), \"Accession.ID\"]),]\n",
    "gp1aaNames <- rbind(ancAAnames, gp1aaNames)\n",
    "\n",
    "gp2aaNames <- aaSubMatNames[as.character(aaSubStrain[which(aaSubStrain[[\"Genotype\"]] == \"gp2\"), \"Accession.ID\"]),]\n",
    "gp2aaNames <- rbind(ancAAnames, gp2aaNames)"
   ]
  },
  {
   "cell_type": "code",
   "execution_count": 25,
   "metadata": {},
   "outputs": [],
   "source": [
    "aaSub <- aaMut\n",
    "aaSub <- merge(aaSub, info, by = \"Accession.ID\", all.x = TRUE)\n",
    "\n",
    "aaSub[[\"Mutated\"]] <- 1\n",
    "# as.integer(as.factor(aaSub[[\"Genotype\"]]))\n",
    "\n",
    "aaSub <- dcast(aaSub[, c(\"Accession.ID\", \"aaPos\", \"Mutated\")], Accession.ID ~ aaPos, value.var = \"Mutated\")\n",
    "aaSub[is.na(aaSub)] <- 0\n",
    "row.names(aaSub) <- aaSub$Accession.ID\n",
    "aaSub <- aaSub[, -1]\n",
    "aaSub <- aaSub[, order(as.integer(colnames(aaSub)))]\n",
    "\n",
    "ancAA <- data.frame(t(rep(2, ncol(aaSub))))\n",
    "colnames(ancAA) <- colnames(aaSub)\n",
    "rownames(ancAA) <- \"Ancestral\"\n",
    "\n",
    "aaSubMat <- rbind(ancAA, aaSub)"
   ]
  },
  {
   "cell_type": "code",
   "execution_count": 26,
   "metadata": {},
   "outputs": [],
   "source": [
    "gp1aa <- aaSubMat[as.character(aaSubStrain[which(aaSubStrain[[\"Genotype\"]] == \"gp1\"), \"Accession.ID\"]),]\n",
    "gp1aa <- rbind(ancAA, gp1aa)\n",
    "\n",
    "gp2aa <- aaSubMat[as.character(aaSubStrain[which(aaSubStrain[[\"Genotype\"]] == \"gp2\"), \"Accession.ID\"]),]\n",
    "gp2aa <- rbind(ancAA, gp2aa)"
   ]
  },
  {
   "cell_type": "code",
   "execution_count": 27,
   "metadata": {},
   "outputs": [],
   "source": [
    "domain <- as.data.frame(unique(aaMut[,c(\"aaPos\", \"Product\", \"Product.ID\")]))\n",
    "productID <- as.factor(domain$Product)\n",
    "domain[[\"Product\"]] <- factor(productID, levels = unique(domain[[\"Product\"]]))\n",
    "domain <- data.frame(domain[order(as.integer(domain[[\"aaPos\"]])), ])\n",
    "rn <- domain[[\"aaPos\"]]\n",
    "domain <- data.frame(\"Product\" = domain[[\"Product\"]])\n",
    "row.names(domain) <- rn"
   ]
  },
  {
   "cell_type": "code",
   "execution_count": 28,
   "metadata": {},
   "outputs": [],
   "source": [
    "# productID <- as.data.frame(unique(aaMut[,c(\"aaPos\", \"Product\", \"Product.ID\")]))\n",
    "# productID$Product <- as.integer(as.factor(productID$Product))\n",
    "# productID <- data.frame(productID[order(productID$aaPos), ])\n",
    "# rn <- productID$aaPos\n",
    "# productID <- data.frame(\"Domain\" = productID$Product)\n",
    "# row.names(productID) <- rn"
   ]
  },
  {
   "cell_type": "code",
   "execution_count": 29,
   "metadata": {},
   "outputs": [],
   "source": [
    "strainAnno <- info[, c(\"Accession.ID\", \"Genotype\", \"Area\")]\n",
    "strainsLoc <- as.data.frame(unique(strainAnno[, c(\"Accession.ID\", \"Genotype\", \"Area\")]))\n",
    "rn <- strainsLoc[[\"Accession.ID\"]]\n",
    "strainsLoc <- data.frame(\"Location\" = strainsLoc[[\"Area\"]])\n",
    "row.names(strainsLoc) <- rn"
   ]
  },
  {
   "cell_type": "code",
   "execution_count": 30,
   "metadata": {},
   "outputs": [],
   "source": [
    "colors <- list(\n",
    "    \"Product\" = brewer.pal(length(unique(domain[[\"Product\"]])), \"Set1\"),\n",
    "    \"Location\" = colorRampPalette(brewer.pal(9, \"Set1\"))(length(unique(strainsLoc[[\"Location\"]])))\n",
    ")\n",
    "\n",
    "names(colors[[\"Product\"]]) <- unique(domain[[\"Product\"]])\n",
    "names(colors[[\"Location\"]]) <- unique(strainsLoc[[\"Location\"]])"
   ]
  },
  {
   "cell_type": "code",
   "execution_count": 37,
   "metadata": {},
   "outputs": [
    {
     "data": {
      "text/html": [
       "<strong>png:</strong> 2"
      ],
      "text/latex": [
       "\\textbf{png:} 2"
      ],
      "text/markdown": [
       "**png:** 2"
      ],
      "text/plain": [
       "png \n",
       "  2 "
      ]
     },
     "metadata": {},
     "output_type": "display_data"
    },
    {
     "data": {
      "image/png": "[encoded data removed]",
      "text/plain": [
       "plot without title"
      ]
     },
     "metadata": {
      "image/png": {
       "height": 420,
       "width": 420
      },
      "text/plain": {
       "height": 420,
       "width": 420
      }
     },
     "output_type": "display_data"
    }
   ],
   "source": [
    "p <- pheatmap(\n",
    "    mat = gp1aa,\n",
    "    color = colorRampPalette(c(\"white\", \"red\", \"grey\"))(3),\n",
    "#     border_color = \"black\",\n",
    "    show_colnames = TRUE,\n",
    "    show_rownames = TRUE,\n",
    "    cluster_cols = FALSE,\n",
    "#     cluster_rows = FALSE,\n",
    "    annotation_col = domain,\n",
    "    annotation_colors = colors,\n",
    "    annotation_row = strainsLoc,\n",
    "    drop_levels = TRUE,\n",
    "    display_numbers = gp1aaNames,\n",
    "#     annotation_legend = FALSE\n",
    ")\n",
    "pdf(file = file.path(figureDir, \"figure3a.pdf\"), width=12, height=5)\n",
    "grid::grid.newpage()\n",
    "grid::grid.draw(p$gtable)\n",
    "dev.off()"
   ]
  },
  {
   "cell_type": "code",
   "execution_count": 38,
   "metadata": {},
   "outputs": [
    {
     "data": {
      "text/html": [
       "<strong>png:</strong> 2"
      ],
      "text/latex": [
       "\\textbf{png:} 2"
      ],
      "text/markdown": [
       "**png:** 2"
      ],
      "text/plain": [
       "png \n",
       "  2 "
      ]
     },
     "metadata": {},
     "output_type": "display_data"
    },
    {
     "data": {
      "image/png": "[encoded data removed]",
      "text/plain": [
       "plot without title"
      ]
     },
     "metadata": {
      "image/png": {
       "height": 420,
       "width": 420
      },
      "text/plain": {
       "height": 420,
       "width": 420
      }
     },
     "output_type": "display_data"
    }
   ],
   "source": [
    "p <- pheatmap(\n",
    "    mat = gp2aa,\n",
    "    color = colorRampPalette(c(\"white\", \"red\", \"grey\"))(3),\n",
    "    show_colnames = TRUE,\n",
    "    show_rownames = TRUE,\n",
    "    cluster_cols = FALSE,\n",
    "#     cluster_rows = FALSE,\n",
    "    annotation_col = domain,\n",
    "    annotation_colors = colors,\n",
    "    annotation_row = strainsLoc,\n",
    "    drop_levels = TRUE,\n",
    "    display_numbers = gp2aaNames,\n",
    "#     annotation_legend = FALSE\n",
    ")\n",
    "pdf(file = file.path(figureDir, \"figure3b.pdf\"), width=12, height=8)\n",
    "grid::grid.newpage()\n",
    "grid::grid.draw(p$gtable)\n",
    "dev.off()"
   ]
  },
  {
   "cell_type": "code",
   "execution_count": 40,
   "metadata": {},
   "outputs": [
    {
     "data": {
      "text/html": [
       "<strong>png:</strong> 2"
      ],
      "text/latex": [
       "\\textbf{png:} 2"
      ],
      "text/markdown": [
       "**png:** 2"
      ],
      "text/plain": [
       "png \n",
       "  2 "
      ]
     },
     "metadata": {},
     "output_type": "display_data"
    },
    {
     "data": {
      "image/png": "[encoded data removed]",
      "text/plain": [
       "plot without title"
      ]
     },
     "metadata": {
      "image/png": {
       "height": 420,
       "width": 420
      },
      "text/plain": {
       "height": 420,
       "width": 420
      }
     },
     "output_type": "display_data"
    }
   ],
   "source": [
    "p <- pheatmap(\n",
    "    mat = aaSubMat,\n",
    "    color = colorRampPalette(c(\"white\", \"red\", \"grey\"))(3),\n",
    "    show_colnames = TRUE,\n",
    "    show_rownames = TRUE,\n",
    "    cluster_cols = FALSE,\n",
    "#     cluster_rows = FALSE,\n",
    "    annotation_col = domain,\n",
    "    annotation_colors = colors,\n",
    "    annotation_row = strainsLoc,\n",
    "    drop_levels = TRUE,\n",
    "    display_numbers = aaSubMatNames,\n",
    "#     annotation_legend = FALSE\n",
    ")\n",
    "pdf(file = file.path(figureDir, \"figure3c.pdf\"), width=12, height=12)\n",
    "grid::grid.newpage()\n",
    "grid::grid.draw(p$gtable)\n",
    "dev.off()"
   ]
  }
 ],
 "metadata": {
  "kernelspec": {
   "display_name": "R",
   "language": "R",
   "name": "ir"
  },
  "language_info": {
   "codemirror_mode": "r",
   "file_extension": ".r",
   "mimetype": "text/x-r-source",
   "name": "R",
   "pygments_lexer": "r",
   "version": "3.6.1"
  }
 },
 "nbformat": 4,
 "nbformat_minor": 2
}
