{
 "cells": [
  {
   "cell_type": "code",
   "execution_count": 1,
   "metadata": {},
   "outputs": [
    {
     "name": "stderr",
     "output_type": "stream",
     "text": [
      "Warning message:\n",
      "\"package 'jsonlite' was built under R version 3.6.2\"\n",
      "Warning message:\n",
      "\"package 'pheatmap' was built under R version 3.6.2\"\n",
      "Warning message:\n",
      "\"package 'reshape2' was built under R version 3.6.2\"\n",
      "Warning message:\n",
      "\"package 'S4Vectors' was built under R version 3.6.2\"\n",
      "Warning message:\n",
      "\"package 'IRanges' was built under R version 3.6.2\"\n"
     ]
    }
   ],
   "source": [
    "library(ape)\n",
    "library(jsonlite)\n",
    "library(pheatmap)\n",
    "library(reshape2)\n",
    "library(ggplot2)\n",
    "library(RColorBrewer)\n",
    "suppressPackageStartupMessages(library(ggtree))\n",
    "suppressPackageStartupMessages(library(Biostrings))\n",
    "\n",
    "dataDir <- \"Data\"\n",
    "genomeTreeDir <- \"Genome_tree\"\n",
    "snpDir <- \"SNPs\"\n",
    "snpCompareDir <- \"SNPs_comparison\"\n",
    "figureDir <- \"Figures\"\n",
    "webImagesDir <- file.path(\"docs\", \"images\")\n",
    "\n",
    "dir.create(figureDir, showWarnings = FALSE)\n",
    "\n",
    "locGroup <- list(\n",
    "    \"Hubei\" = \"Wuhan, China\",\n",
    "    \"Guangdong\" = \"Guangdong, China\",\n",
    "    \"USA\" = \"USA\",\n",
    "    \"Japan\" = \"Japan\",\n",
    "    \"Australia\" = \"Australia\"\n",
    ")\n",
    "\n",
    "gpColors <- list(\n",
    "    \"G1\" = \"#EB261F\",\n",
    "    \"G2\" = \"#1CA4FC\",\n",
    "    \"G2.1\" = \"#00FFFF\"\n",
    ")\n",
    "\n",
    "ntColors <- list(\n",
    "    \"A\" = \"#64F73F\",\n",
    "    \"C\" = \"#FFB340\",\n",
    "    \"G\" = \"#7E1272\",\n",
    "    \"T\" = \"#FF00FF\"\n",
    ")\n",
    "\n",
    "ancestralName <- \"EPI_ISL_402125 (reference)\""
   ]
  },
  {
   "cell_type": "code",
   "execution_count": 2,
   "metadata": {},
   "outputs": [],
   "source": [
    "tree <- read.tree(file.path(genomeTreeDir, \"RAxML_bestTree.GTRGAMMA\"))\n",
    "info <- read.csv(file.path(dataDir, \"info.csv\"))\n",
    "allSNP <- read.csv(file.path(snpDir, \"all.csv\"))\n",
    "genotypes <- read_json(file.path(dataDir, \"genotypes.json\"))\n",
    "subGenotypes <- read_json(file.path(dataDir, \"sub_genotypes.json\"), simplifyVector = TRUE)\n",
    "original <- read.csv(file.path(dataDir, \"original.csv\"), stringsAsFactors = FALSE)"
   ]
  },
  {
   "cell_type": "code",
   "execution_count": 3,
   "metadata": {},
   "outputs": [],
   "source": [
    "info <- info[complete.cases(info), ]\n",
    "\n",
    "root2tipDist <- data.frame(\n",
    "    \"Dist\" = node.depth.edgelength(tree)[1:length(tree$tip.label)],\n",
    "    \"Accession.ID\" = tree$tip.label\n",
    ")\n",
    "\n",
    "info <- merge(info, root2tipDist, by = \"Accession.ID\")"
   ]
  },
  {
   "cell_type": "code",
   "execution_count": 4,
   "metadata": {},
   "outputs": [],
   "source": [
    "info[[\"Genotype\"]] <- NULL\n",
    "\n",
    "for (gp in names(genotypes)) {\n",
    "    for (id in genotypes[[gp]]) {\n",
    "        info[which(info$Accession.ID == id), \"Genotype\"] <- gp\n",
    "    }\n",
    "}"
   ]
  },
  {
   "cell_type": "code",
   "execution_count": 5,
   "metadata": {},
   "outputs": [],
   "source": [
    "info[[\"LocGroup\"]] <- \"Others\"\n",
    "locGroupLV <- character(0)\n",
    "\n",
    "for (loc in names(locGroup)) {\n",
    "    grp <- locGroup[[loc]]\n",
    "    info[which(info[[\"Area\"]] == loc), \"LocGroup\"] <- grp\n",
    "    locGroupLV <- c(locGroupLV, grp)\n",
    "}\n",
    "locGroupLV <- c(locGroupLV, \"Others\")\n",
    "\n",
    "info[[\"LocGroup\"]] <- as.factor(info[[\"LocGroup\"]])\n",
    "info[[\"LocGroup\"]] <- factor(info[[\"LocGroup\"]], levels = locGroupLV)"
   ]
  },
  {
   "cell_type": "code",
   "execution_count": 6,
   "metadata": {},
   "outputs": [
    {
     "name": "stderr",
     "output_type": "stream",
     "text": [
      "Saving 6.67 x 6.67 in image\n",
      "\n",
      "Saving 6.67 x 6.67 in image\n",
      "\n"
     ]
    },
    {
     "data": {
      "image/png": "[encoded data removed]",
      "text/plain": [
       "plot without title"
      ]
     },
     "metadata": {
      "image/png": {
       "height": 420,
       "width": 420
      },
      "text/plain": {
       "height": 420,
       "width": 420
      }
     },
     "output_type": "display_data"
    }
   ],
   "source": [
    "tree <- groupOTU(tree, subGenotypes, \"Subgroups\")\n",
    "\n",
    "p <- ggtree(tree, aes(color=Subgroups))\n",
    "p <- p %<+% info + \n",
    "    geom_tiplab(size = 1.5, hjust = -0.1) + \n",
    "    geom_tippoint(aes(color=Genotype)) +\n",
    "    geom_treescale(x=0.00029, y=0, offset=0)\n",
    "\n",
    "snp_data <- allSNP[, c(\"Accession.ID\", \"Pos\", \"SNP\")]\n",
    "p <- p + geom_facet(\n",
    "    panel = \"SNP\",\n",
    "    data = snp_data,\n",
    "    geom = geom_point,\n",
    "    mapping=aes(x = Pos, fill=SNP),\n",
    "    shape = 23,\n",
    "    size = 2,\n",
    "    stroke = 0.01\n",
    ") +\n",
    "theme_tree2(\n",
    "    strip.background = element_blank(),\n",
    "    strip.text.x = element_blank(),\n",
    "#     axis.text.x = element_text(angle = 90, vjust = 0.5, size = 3)\n",
    ") +\n",
    "scale_color_manual(values = gpColors, limits = names(genotypes)) +\n",
    "scale_fill_manual(values = ntColors)\n",
    "# scale_x_continuous(snp_data$Pos, labels = snp_data$Pos, breaks = snp_data$Pos)\n",
    "p <- facet_widths(p, widths = c(1.5, 1))\n",
    "\n",
    "print(p)\n",
    "\n",
    "ggsave(filename = file.path(figureDir, \"figure1.pdf\"), plot = p, device = \"pdf\")\n",
    "ggsave(filename = file.path(webImagesDir, \"tree_and_snps.svg\"), plot = p, device = \"svg\")"
   ]
  },
  {
   "cell_type": "code",
   "execution_count": 7,
   "metadata": {},
   "outputs": [
    {
     "name": "stderr",
     "output_type": "stream",
     "text": [
      "Saving 6.67 x 15 in image\n",
      "\n"
     ]
    },
    {
     "data": {
      "image/png": "[encoded data removed]",
      "text/plain": [
       "plot without title"
      ]
     },
     "metadata": {
      "image/png": {
       "height": 420,
       "width": 420
      },
      "text/plain": {
       "height": 420,
       "width": 420
      }
     },
     "output_type": "display_data"
    }
   ],
   "source": [
    "snp <- allSNP[, c(\"Accession.ID\", \"Pos\", \"SNP\", \"Product\")]\n",
    "snp <- merge(snp, info, by = \"Accession.ID\", all.x = TRUE)\n",
    "snp[\"isHubei\"] <- factor(c(\"non-Hubei\", \"Hubei\")[(as.character(snp$Area) == \"Hubei\") + 1])\n",
    "# levels(snp$Accession.ID) <- as.character(snp$Accession.ID[order(snp$Area)])\n",
    "snp$Area_ID <- as.integer(snp$Area)\n",
    "\n",
    "p <- ggplot(snp, aes(x = reorder(Accession.ID, Area_ID), y = Pos, fill = SNP, color = SNP)) +\n",
    "    geom_dotplot(binaxis = \"y\", binwidth = 1, dotsize = 750, stackdir='center') +\n",
    "#     xlim(seq_len(0, 21399)) +\n",
    "    coord_flip() +\n",
    "    ylim(0, 29133) +\n",
    "    ylab(\"\") + xlab(\"\") +\n",
    "    facet_wrap(~ LocGroup + Genotype, nrow = length(unique(snp$LocGroup)), scales = \"free_y\") +\n",
    "#     facet_grid(LocGroup ~ Genotype, scales = \"free_y\", space = \"free\") +\n",
    "    theme(\n",
    "        panel.grid.major = element_line(colour=\"grey\", size = 0.1), \n",
    "        panel.grid.major.x = element_blank(),\n",
    "        panel.grid.minor.x = element_blank(),\n",
    "        panel.background = element_rect(fill = NA),\n",
    "        axis.text.x=element_blank(),\n",
    "        axis.ticks.x=element_blank(),\n",
    "        axis.text.y=element_text(size=5, face=\"bold\")\n",
    "    )\n",
    "print(p)\n",
    "\n",
    "ggsave(filename = file.path(figureDir, \"figure2b.pdf\"), plot = p, height = 15, device = \"pdf\")"
   ]
  },
  {
   "cell_type": "code",
   "execution_count": 8,
   "metadata": {},
   "outputs": [
    {
     "name": "stderr",
     "output_type": "stream",
     "text": [
      "Saving 6.67 x 9 in image\n",
      "\n"
     ]
    },
    {
     "data": {
      "image/png": "[encoded data removed]",
      "text/plain": [
       "plot without title"
      ]
     },
     "metadata": {
      "image/png": {
       "height": 420,
       "width": 420
      },
      "text/plain": {
       "height": 420,
       "width": 420
      }
     },
     "output_type": "display_data"
    }
   ],
   "source": [
    "p <- ggplot(snp, aes(x = reorder(Accession.ID, Area_ID), y = Pos, fill = SNP, color = SNP)) +\n",
    "    geom_dotplot(binaxis = \"y\", binwidth = 1, dotsize = 350, stackdir='center') +\n",
    "#     xlim(seq_len(0, 21399)) +\n",
    "    coord_flip() +\n",
    "    ylim(0, 29133) +\n",
    "    ylab(\"\") + xlab(\"\") +\n",
    "    facet_grid(Genotype ~ ., scales = \"free_y\", space = \"free\") +\n",
    "    theme(panel.grid.major = element_line(colour=\"grey\", size = 0.1), \n",
    "          panel.grid.major.x = element_blank(),\n",
    "          panel.grid.minor.x = element_blank(),\n",
    "          panel.background = element_rect(fill = NA),\n",
    "          axis.text.x=element_blank(),\n",
    "          axis.ticks.x=element_blank(),\n",
    "          axis.text.y=element_text(size=5, face=\"bold\"))\n",
    "print(p)\n",
    "\n",
    "ggsave(filename = file.path(figureDir, \"figure2a.pdf\"), plot = p, height = 9)"
   ]
  },
  {
   "cell_type": "code",
   "execution_count": 9,
   "metadata": {},
   "outputs": [],
   "source": [
    "forlabeling <- unique(snp[, c(\"Accession.ID\", \"Area\", \"Genotype\")])\n",
    "forlabeling <- lapply(split(forlabeling, forlabeling$Genotype), function(i) {\n",
    "    res <- i[order(i[[\"Area\"]]), ]\n",
    "    res\n",
    "})\n",
    "for (gp in names(forlabeling)) {\n",
    "    write.csv(forlabeling[[gp]], file.path(snpDir, paste0(gp, \"SNParea.csv\")))\n",
    "}"
   ]
  },
  {
   "cell_type": "code",
   "execution_count": 10,
   "metadata": {},
   "outputs": [],
   "source": [
    "allSNPsum <- table(allSNP[, c(\"Pos\", \"SNP\")])\n",
    "allSNPsum <- apply(allSNPsum, 1, sum)\n",
    "allSNPsum <- as.integer(names(allSNPsum[allSNPsum != 1]))\n",
    "# allSNP <- allSNP[allSNP[, \"Pos\"] %in% allSNPsum, ]"
   ]
  },
  {
   "cell_type": "code",
   "execution_count": 11,
   "metadata": {},
   "outputs": [],
   "source": [
    "seqs <- readDNAMultipleAlignment(file.path(genomeTreeDir, \"aligned_cds.fasta\"))\n",
    "seqs <- as.character(seqs)\n",
    "\n",
    "aaMut <- as.data.frame(t(apply(allSNP, 1, function(row) {\n",
    "    accession <- row[[\"Accession.ID\"]]\n",
    "    pos <- as.integer(row[[\"Pos\"]])\n",
    "    shift <- pos %% 3\n",
    "    if (shift == 0) {\n",
    "        codon <- substr(seqs[[accession]], pos - 2, pos)\n",
    "        refCodon <- paste0(substr(codon, 1, 2), row[[\"Ref\"]])\n",
    "    } else if (shift == 1) {\n",
    "        codon <- substr(seqs[[accession]], pos, pos + 2)\n",
    "        refCodon <- paste0(row[[\"Ref\"]], substr(codon, 2, 3))\n",
    "    } else {\n",
    "        codon <- substr(seqs[[accession]], pos - 1, pos + 1)\n",
    "        refCodon <- paste0(substr(codon, 1, 1), row[[\"Ref\"]], substr(codon, 3, 3))\n",
    "    }\n",
    "    \n",
    "    aa <- GENETIC_CODE[[codon]]\n",
    "    refAA <- GENETIC_CODE[[refCodon]]\n",
    "    aaPos <- ceiling(pos / 3)\n",
    "    \n",
    "    res <- c(\n",
    "        row[[\"Accession.ID\"]],\n",
    "        row[[\"Host\"]], row[[\"Collection.date\"]], row[[\"Province\"]],\n",
    "        aa, refAA, pos, aaPos,\n",
    "        as.integer(row[[\"Genome.pos\"]]),\n",
    "        aaPos - (as.integer(row[[\"Start.index\"]]) / 3),\n",
    "        row[[\"Product\"]], row[[\"Product.ID\"]]\n",
    "    )\n",
    "    return(res)\n",
    "})), stringsAsFactors = FALSE)\n",
    "\n",
    "colnames(aaMut) <- c(\n",
    "    \"Accession.ID\",\n",
    "    \"Source\", \"Date\", \"Area\",\n",
    "    \"mutAA\", \"refAA\", \"ntPos\", \"aaPos\",\n",
    "    \"genomePos\", \"aaInSituPos\",\n",
    "    \"Product\", \"Product.ID\"\n",
    ")\n",
    "\n",
    "write.csv(aaMut, file.path(snpDir, \"amino_acid_substitutions.csv\"), row.names = FALSE)"
   ]
  },
  {
   "cell_type": "code",
   "execution_count": 12,
   "metadata": {},
   "outputs": [],
   "source": [
    "aaMut <- aaMut[\n",
    "    which(aaMut$mutAA != aaMut$refAA & aaMut[, \"ntPos\"] %in% allSNPsum),\n",
    "    c(\"Accession.ID\", \"mutAA\", \"refAA\", \"ntPos\", \"aaPos\", \"aaInSituPos\", \"Product\", \"Product.ID\")\n",
    "]"
   ]
  },
  {
   "cell_type": "code",
   "execution_count": 13,
   "metadata": {},
   "outputs": [],
   "source": [
    "seqsAnimal <- as.character(readDNAMultipleAlignment(file.path(snpCompareDir, \"aligned_cds.fasta\")))\n",
    "ref2aligned <- read_json(file.path(snpCompareDir, \"ref2aligned_cds.json\"))\n",
    "\n",
    "seqsAnimal <- seqsAnimal[original[\n",
    "    original[[\"Host\"]] == \"Manis javanica\" | original[[\"Host\"]] == \"Rhinolophus affinis\",\n",
    "    \"Accession.ID\"\n",
    "]]\n",
    "\n",
    "seqsAnimal <- seqsAnimal[!is.na(seqsAnimal)]\n",
    "\n",
    "animalMeta <- original[original[[\"Accession.ID\"]] %in% names(seqsAnimal), ]\n",
    "animalMeta <- animalMeta[order(animalMeta[[\"Host\"]]),]"
   ]
  },
  {
   "cell_type": "code",
   "execution_count": 14,
   "metadata": {},
   "outputs": [],
   "source": [
    "# Get the position of SARS-CoV-2 SNP\n",
    "nonDupNTpos <- !duplicated(aaMut[[\"ntPos\"]])\n",
    "nonDupNT <- aaMut[nonDupNTpos, \"ntPos\"]\n",
    "names(nonDupNT) <- aaMut[nonDupNTpos, \"aaPos\"]\n",
    "ntPos <- ref2aligned[nonDupNT]\n",
    "names(ntPos) <- aaMut[nonDupNTpos, \"aaPos\"]\n",
    "\n",
    "mutCodonPos <- lapply(names(ntPos), function(refPos) {\n",
    "    pos <- ntPos[[refPos]]\n",
    "    shift <- as.integer(nonDupNT[[refPos]]) %% 3\n",
    "    if (shift == 0) {\n",
    "        codons <- substr(seqsAnimal, pos - 2, pos)\n",
    "    } else if (shift == 1) {\n",
    "        codons <- substr(seqsAnimal, pos, pos + 2)\n",
    "    } else {\n",
    "        codons <- substr(seqsAnimal, pos - 1, pos + 1)\n",
    "    }\n",
    "    aa <- sapply(codons, function(codon) {\n",
    "        if (codon == \"TTN\") {\n",
    "            codon <- \"TTG\"\n",
    "        } else if (codon == \"---\") {\n",
    "            return('-')\n",
    "        } else if (codon == \"CST\") {\n",
    "            codon <- \"CGT\"\n",
    "        } else if (codon == \"TTY\") {\n",
    "            codon <- \"TTT\"\n",
    "        }\n",
    "        return(GENETIC_CODE[[codon]])\n",
    "    })\n",
    "    return(aa)\n",
    "})\n",
    "names(mutCodonPos) <- names(ntPos)"
   ]
  },
  {
   "cell_type": "code",
   "execution_count": 15,
   "metadata": {},
   "outputs": [],
   "source": [
    "rn <- animalMeta[[\"Accession.ID\"]]\n",
    "\n",
    "animalAA <- data.frame(row.names = rn)\n",
    "mutCodonPos <- lapply(names(mutCodonPos), function(pos) {\n",
    "    i <- mutCodonPos[[pos]]\n",
    "    res <- as.data.frame(i[row.names(animalAA)])\n",
    "    names(res) <- pos\n",
    "    return(res)\n",
    "})\n",
    "\n",
    "animalAA <- do.call(cbind, mutCodonPos)"
   ]
  },
  {
   "cell_type": "code",
   "execution_count": 16,
   "metadata": {},
   "outputs": [],
   "source": [
    "aaSubNames <- dcast(aaMut[, c(\"Accession.ID\", \"aaPos\", \"mutAA\")], Accession.ID ~ aaPos, value.var = \"mutAA\")\n",
    "aaSubNames[is.na(aaSubNames)] <- \".\"\n",
    "row.names(aaSubNames) <- aaSubNames[[\"Accession.ID\"]]\n",
    "aaSubNames <- aaSubNames[, -1]\n",
    "aaSubNames <- aaSubNames[, order(as.integer(colnames(aaSubNames)))]\n",
    "\n",
    "locationInfo <- info[which(info[[\"Accession.ID\"]] %in% row.names(aaSubNames)), c(\"Accession.ID\", \"LocGroup\")]\n",
    "orderedAC <- as.character(locationInfo[order(locationInfo[[\"LocGroup\"]]), \"Accession.ID\"])\n",
    "aaSubNames <- aaSubNames[orderedAC, ]\n",
    "\n",
    "ancAAnames <- data.frame(t(unique(aaMut[, c(\"aaPos\", \"refAA\")])[[\"refAA\"]]))\n",
    "colnames(ancAAnames) <- colnames(aaSubNames)\n",
    "rownames(ancAAnames) <- ancestralName\n",
    "aaSubMatNames <- rbind(ancAAnames, aaSubNames)"
   ]
  },
  {
   "cell_type": "code",
   "execution_count": 17,
   "metadata": {},
   "outputs": [],
   "source": [
    "animalAAnames <- as.data.frame(t(apply(animalAA, 1, function(i) {\n",
    "    res <- rep(\".\", length(i))\n",
    "    nonMut <- which(i != ancAAnames)\n",
    "    res[nonMut] <- i[nonMut]\n",
    "    res\n",
    "})))\n",
    "colnames(animalAAnames) <- colnames(animalAA)"
   ]
  },
  {
   "cell_type": "code",
   "execution_count": 18,
   "metadata": {},
   "outputs": [],
   "source": [
    "gp1aaNames <- aaSubMatNames[row.names(aaSubMatNames) %in% genotypes[[\"G1\"]], ]\n",
    "gp1aaNames <- rbind(ancAAnames, animalAAnames, gp1aaNames)\n",
    "\n",
    "gp2aaNames <- aaSubMatNames[row.names(aaSubMatNames) %in% genotypes[[\"G2\"]], ]\n",
    "# gp2aaNames <- rbind(ancAAnames, gp2aaNames)"
   ]
  },
  {
   "cell_type": "code",
   "execution_count": 19,
   "metadata": {},
   "outputs": [],
   "source": [
    "aaSub <- aaMut\n",
    "aaSub <- merge(aaSub, info, by = \"Accession.ID\", all.x = TRUE)\n",
    "\n",
    "aaSub[[\"Mutated\"]] <- 2 # Value of mutation in heatmap\n",
    "\n",
    "aaSub <- dcast(aaSub[, c(\"Accession.ID\", \"aaPos\", \"Mutated\")], Accession.ID ~ aaPos, value.var = \"Mutated\")\n",
    "aaSub[is.na(aaSub)] <- 0\n",
    "row.names(aaSub) <- aaSub$Accession.ID\n",
    "aaSub <- aaSub[, -1]\n",
    "aaSub <- aaSub[, order(as.integer(colnames(aaSub)))]\n",
    "\n",
    "aaSub <- aaSub[orderedAC, ]\n",
    "\n",
    "ancAA <- data.frame(t(rep(1, ncol(aaSub))))\n",
    "colnames(ancAA) <- colnames(aaSub)\n",
    "rownames(ancAA) <- ancestralName\n",
    "aaSubMat <- rbind(ancAA, aaSub)"
   ]
  },
  {
   "cell_type": "code",
   "execution_count": 20,
   "metadata": {},
   "outputs": [],
   "source": [
    "animalAAmat <- as.data.frame(t(apply(animalAA, 1, function(i) {\n",
    "    res <- rep(0, length(i))\n",
    "    nonMut <- which(i != ancAAnames)\n",
    "    res[nonMut] <- 2\n",
    "    res\n",
    "})))\n",
    "colnames(animalAAmat) <- colnames(animalAA)"
   ]
  },
  {
   "cell_type": "code",
   "execution_count": 21,
   "metadata": {},
   "outputs": [],
   "source": [
    "gp1aa <- aaSubMat[row.names(aaSubMat) %in% genotypes[[\"G1\"]], ]\n",
    "gp1aa <- rbind(ancAA, animalAAmat, gp1aa)\n",
    "\n",
    "gp2aa <- aaSubMat[row.names(aaSubMat) %in% genotypes[[\"G2\"]], ]\n",
    "# gp2aa <- rbind(ancAA, gp2aa)"
   ]
  },
  {
   "cell_type": "code",
   "execution_count": 22,
   "metadata": {},
   "outputs": [],
   "source": [
    "domain <- as.data.frame(unique(aaMut[,c(\"aaPos\", \"Product\", \"Product.ID\")]))\n",
    "productID <- as.factor(domain$Product)\n",
    "domain[[\"Product\"]] <- factor(productID, levels = unique(domain[[\"Product\"]]))\n",
    "domain <- data.frame(domain[order(as.integer(domain[[\"aaPos\"]])), ])\n",
    "rn <- domain[[\"aaPos\"]]\n",
    "domain <- data.frame(\"Product\" = domain[[\"Product\"]])\n",
    "row.names(domain) <- rn"
   ]
  },
  {
   "cell_type": "code",
   "execution_count": 23,
   "metadata": {},
   "outputs": [],
   "source": [
    "strainAnno <- info[, c(\"Accession.ID\", \"Genotype\", \"LocGroup\")]\n",
    "strainsLoc <- as.data.frame(unique(strainAnno[, c(\"Accession.ID\", \"Genotype\", \"LocGroup\")]))\n",
    "colnames(strainsLoc)[3] <- \"Location\"\n",
    "row.names(strainsLoc) <- strainsLoc[[\"Accession.ID\"]]\n",
    "strainsLoc <- strainsLoc[,c(3, 2)]"
   ]
  },
  {
   "cell_type": "code",
   "execution_count": 24,
   "metadata": {},
   "outputs": [],
   "source": [
    "animalInfo <- animalMeta[, c(\"Accession.ID\", \"Location\", \"Host\")]\n",
    "\n",
    "animalInfo[[\"Location\"]] <- \"Wild animals\"\n",
    "\n",
    "row.names(animalInfo) <- animalInfo[[\"Accession.ID\"]]\n",
    "colnames(animalInfo)[3] <- \"Genotype\"\n",
    "animalInfo <- animalInfo[, -1]"
   ]
  },
  {
   "cell_type": "code",
   "execution_count": 25,
   "metadata": {},
   "outputs": [],
   "source": [
    "strainsLoc <- rbind(strainsLoc, animalInfo)"
   ]
  },
  {
   "cell_type": "code",
   "execution_count": 26,
   "metadata": {},
   "outputs": [],
   "source": [
    "colors <- list(\n",
    "    \"Product\" = rev(brewer.pal(length(unique(domain[[\"Product\"]])), \"Set1\")),\n",
    "    \"Location\" = colorRampPalette(brewer.pal(3, \"Set3\"))(length(unique(strainsLoc[[\"Location\"]]))),\n",
    "    \"Genotype\" = c(\"#000000\", \"#808080\", \"#EB261F\", \"#1CA4FC\")\n",
    ")\n",
    "\n",
    "names(colors[[\"Product\"]]) <- unique(domain[[\"Product\"]])\n",
    "names(colors[[\"Location\"]]) <- unique(strainsLoc[[\"Location\"]])\n",
    "names(colors[[\"Genotype\"]]) <- rev(unique(strainsLoc[[\"Genotype\"]]))"
   ]
  },
  {
   "cell_type": "code",
   "execution_count": 27,
   "metadata": {},
   "outputs": [],
   "source": [
    "combinedMat <- rbind(gp1aa, gp2aa[-1,])\n",
    "combinedMatNames <- rbind(gp1aaNames, gp2aaNames[-1,])"
   ]
  },
  {
   "cell_type": "code",
   "execution_count": 28,
   "metadata": {},
   "outputs": [
    {
     "data": {
      "image/png": "[encoded data removed]",
      "text/plain": [
       "plot without title"
      ]
     },
     "metadata": {
      "image/png": {
       "height": 420,
       "width": 420
      },
      "text/plain": {
       "height": 420,
       "width": 420
      }
     },
     "output_type": "display_data"
    }
   ],
   "source": [
    "p <- pheatmap(\n",
    "    mat = combinedMat,\n",
    "    color = colorRampPalette(c(\"white\", \"grey\", \"white\"))(3),\n",
    "    border_color = NA,\n",
    "    show_colnames = TRUE,\n",
    "    show_rownames = TRUE,\n",
    "    cluster_cols = FALSE,\n",
    "    cluster_rows = FALSE,\n",
    "    annotation_col = domain,\n",
    "    annotation_colors = colors,\n",
    "    annotation_row = strainsLoc,\n",
    "    drop_levels = TRUE,\n",
    "    display_numbers = combinedMatNames,\n",
    "    legend = FALSE\n",
    ")\n",
    "pdf(file = file.path(figureDir, \"figure3.pdf\"), width=7, height=12)\n",
    "grid::grid.newpage()\n",
    "grid::grid.draw(p$gtable)\n",
    "invisible(dev.off())\n",
    "\n",
    "svg(filename = file.path(webImagesDir, \"amino_acids_substitutions.svg\"), width=7, height=12)\n",
    "grid::grid.newpage()\n",
    "grid::grid.draw(p$gtable)\n",
    "invisible(dev.off())"
   ]
  }
 ],
 "metadata": {
  "kernelspec": {
   "display_name": "R",
   "language": "R",
   "name": "ir"
  },
  "language_info": {
   "codemirror_mode": "r",
   "file_extension": ".r",
   "mimetype": "text/x-r-source",
   "name": "R",
   "pygments_lexer": "r",
   "version": "3.6.1"
  }
 },
 "nbformat": 4,
 "nbformat_minor": 2
}
