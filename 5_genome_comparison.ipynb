{
 "cells": [
  {
   "cell_type": "code",
   "execution_count": 1,
   "metadata": {},
   "outputs": [],
   "source": [
    "import os\n",
    "\n",
    "import pandas as pd\n",
    "from Bio import SeqIO\n",
    "from Bio.Seq import Seq\n",
    "from Bio.SeqRecord import SeqRecord\n",
    "\n",
    "dataDir = \"Data\"\n",
    "snpCompareDir = \"SNPs_comparison\""
   ]
  },
  {
   "cell_type": "code",
   "execution_count": 2,
   "metadata": {},
   "outputs": [],
   "source": [
    "if not os.path.exists(snpCompareDir):\n",
    "    os.mkdir(snpCompareDir)"
   ]
  },
  {
   "cell_type": "code",
   "execution_count": 4,
   "metadata": {},
   "outputs": [
    {
     "data": {
      "text/plain": [
       "5"
      ]
     },
     "execution_count": 4,
     "metadata": {},
     "output_type": "execute_result"
    }
   ],
   "source": [
    "seqs = []\n",
    "seqAnno = pd.DataFrame(columns=(\"Accession ID\", \"Start\", \"End\", \"Product_id\", \"Product_name\"))\n",
    "\n",
    "genBanks = [\n",
    "    \"reference.gb\",\n",
    "    \"reference_bat.gb\",\n",
    "    \"sequence_bat_1.gb\",\n",
    "    \"sequence_bat_2.gb\",\n",
    "    \"sequence_bat_3.gb\"\n",
    "]\n",
    "\n",
    "for fname in genBanks:\n",
    "    record = SeqIO.read(os.path.join(dataDir, fname), \"gb\")\n",
    "    product_id = 0\n",
    "    aaSeq = \"\"\n",
    "    for f in record.features:\n",
    "        if f.type == \"CDS\":\n",
    "            product_id += 1\n",
    "            for i in f.location.parts:\n",
    "                row = pd.Series(data={\n",
    "                    \"Accession ID\": record.id,\n",
    "                    \"Start\": i.start + 1,\n",
    "                    \"End\": i.end,\n",
    "                    \"Product_id\": product_id,\n",
    "                    \"Product_name\": \", \".join(f.qualifiers[\"product\"]),\n",
    "                })\n",
    "                seqAnno = seqAnno.append(row, ignore_index=True)\n",
    "                aaSeq += ''.join(f.qualifiers[\"translation\"])\n",
    "    seqs.append(SeqRecord(Seq(aaSeq), record.id, \"\"))\n",
    "\n",
    "seqAnno.to_csv(os.path.join(snpCompareDir, \"annotation.csv\"), index=False)\n",
    "SeqIO.write(seqs, os.path.join(snpCompareDir, \"peptides.fasta\"), \"fasta\")"
   ]
  }
 ],
 "metadata": {
  "kernelspec": {
   "display_name": "Python 3",
   "language": "python",
   "name": "python3"
  },
  "language_info": {
   "codemirror_mode": {
    "name": "ipython",
    "version": 3
   },
   "file_extension": ".py",
   "mimetype": "text/x-python",
   "name": "python",
   "nbconvert_exporter": "python",
   "pygments_lexer": "ipython3",
   "version": "3.5.3"
  }
 },
 "nbformat": 4,
 "nbformat_minor": 2
}
