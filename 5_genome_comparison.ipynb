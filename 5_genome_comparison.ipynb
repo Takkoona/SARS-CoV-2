{
 "cells": [
  {
   "cell_type": "code",
   "execution_count": 1,
   "metadata": {},
   "outputs": [],
   "source": [
    "import os\n",
    "import json\n",
    "from collections import Counter\n",
    "import pandas as pd\n",
    "from Bio import SeqIO\n",
    "\n",
    "dataDir = \"Data\"\n",
    "snpCompareDir = \"SNPs_comparison\""
   ]
  },
  {
   "cell_type": "code",
   "execution_count": 2,
   "metadata": {},
   "outputs": [],
   "source": [
    "if not os.path.exists(snpCompareDir):\n",
    "    os.mkdir(snpCompareDir)"
   ]
  },
  {
   "cell_type": "code",
   "execution_count": 3,
   "metadata": {},
   "outputs": [],
   "source": [
    "original = pd.read_csv(os.path.join(dataDir, \"original.csv\"))"
   ]
  },
  {
   "cell_type": "code",
   "execution_count": 4,
   "metadata": {},
   "outputs": [
    {
     "data": {
      "text/plain": [
       "7"
      ]
     },
     "execution_count": 4,
     "metadata": {},
     "output_type": "execute_result"
    }
   ],
   "source": [
    "minLen = 28000\n",
    "maxN = 100\n",
    "\n",
    "seqs = {}\n",
    "outSeqs = []\n",
    "\n",
    "for record in SeqIO.parse(os.path.join(dataDir, \"sequences.fasta\"), \"fasta\"):\n",
    "    seqSum = Counter(str(record.seq).upper())\n",
    "    if len(record) > minLen and seqSum['N'] < maxN:\n",
    "        seqs[record.id] = record\n",
    "        virusHost = original.loc[original[\"Accession.ID\"] == record.id, \"Host\"]\n",
    "        if virusHost.values[0] == \"Manis javanica\" or record.id == \"EPI_ISL_402131\":\n",
    "            outSeqs.append(record)\n",
    "\n",
    "SeqIO.write(outSeqs, os.path.join(snpCompareDir, \"wild.fasta\"), \"fasta\")"
   ]
  },
  {
   "cell_type": "code",
   "execution_count": 5,
   "metadata": {},
   "outputs": [],
   "source": [
    "with open(os.path.join(dataDir, \"genotypes.json\")) as f:\n",
    "    genotypes = json.load(f)"
   ]
  },
  {
   "cell_type": "code",
   "execution_count": 6,
   "metadata": {},
   "outputs": [],
   "source": [
    "for gp in genotypes:\n",
    "    outSeqs = []\n",
    "    for ac in genotypes[gp]:\n",
    "        record = seqs[ac]\n",
    "        virusHost = original.loc[original[\"Accession.ID\"] == record.id, \"Host\"]\n",
    "        outSeqs.append(record)\n",
    "    SeqIO.write(outSeqs, os.path.join(snpCompareDir, gp + \".fasta\"), \"fasta\")"
   ]
  }
 ],
 "metadata": {
  "kernelspec": {
   "display_name": "Python 3",
   "language": "python",
   "name": "python3"
  },
  "language_info": {
   "codemirror_mode": {
    "name": "ipython",
    "version": 3
   },
   "file_extension": ".py",
   "mimetype": "text/x-python",
   "name": "python",
   "nbconvert_exporter": "python",
   "pygments_lexer": "ipython3",
   "version": "3.5.3"
  }
 },
 "nbformat": 4,
 "nbformat_minor": 2
}
