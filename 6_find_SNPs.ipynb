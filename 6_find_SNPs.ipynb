{
 "cells": [
  {
   "cell_type": "code",
   "execution_count": 2,
   "metadata": {},
   "outputs": [],
   "source": [
    "import os\n",
    "import json\n",
    "\n",
    "import pandas as pd\n",
    "from Bio import SeqIO, AlignIO\n",
    "from Bio.Align import MultipleSeqAlignment\n",
    "\n",
    "dataDir = \"Data\"\n",
    "snpCompareDir = \"SNPs_comparison\"\n",
    "snpDir = \"SNPs\"\n",
    "\n",
    "# reference = \"MN908947.3\"\n",
    "reference = \"EPI_ISL_402125\""
   ]
  },
  {
   "cell_type": "code",
   "execution_count": 3,
   "metadata": {},
   "outputs": [],
   "source": [
    "aligned = AlignIO.read(os.path.join(snpCompareDir, \"aligned.fasta\"), \"fasta\")\n",
    "annoRef = SeqIO.read(os.path.join(dataDir, \"reference.gb\"), \"gb\")"
   ]
  },
  {
   "cell_type": "code",
   "execution_count": 4,
   "metadata": {},
   "outputs": [],
   "source": [
    "ref2aligned = {}\n",
    "\n",
    "for record in aligned:\n",
    "    if record.id == reference:\n",
    "        refIndex = -1\n",
    "        for alignedIndex, n in enumerate(record):\n",
    "            if n != '-':\n",
    "                refIndex += 1\n",
    "            ref2aligned[refIndex] = alignedIndex\n",
    "        break"
   ]
  },
  {
   "cell_type": "code",
   "execution_count": 5,
   "metadata": {},
   "outputs": [],
   "source": [
    "cdsAlignedIndex = []\n",
    "product_id = 0\n",
    "\n",
    "for f in annoRef.features:\n",
    "    if f.type == \"CDS\":\n",
    "        product_id += 1\n",
    "        for i in f.location.parts:\n",
    "            cdsAlignedIndex.append({\n",
    "                \"start\": ref2aligned[i.start],\n",
    "                \"end\": ref2aligned[i.end],\n",
    "                \"product_id\": product_id,\n",
    "                \"product_name\": \", \".join(f.qualifiers[\"product\"]),\n",
    "                \"ref_start\": i.start,\n",
    "                \"ref_end\": i.end\n",
    "            })\n",
    "\n",
    "with open(os.path.join(snpCompareDir, \"cds_info.json\"), 'w') as f:\n",
    "    json.dump(cdsAlignedIndex, f, indent=4)"
   ]
  },
  {
   "cell_type": "code",
   "execution_count": 6,
   "metadata": {},
   "outputs": [
    {
     "data": {
      "text/plain": [
       "1"
      ]
     },
     "execution_count": 6,
     "metadata": {},
     "output_type": "execute_result"
    }
   ],
   "source": [
    "alignedCDS = None\n",
    "cdsPos = 0\n",
    "cdsAnno = {}\n",
    "\n",
    "for loc in cdsAlignedIndex:\n",
    "    cdsSeq = aligned[:, loc[\"start\"]:loc[\"end\"]]\n",
    "    if alignedCDS is None:\n",
    "        alignedCDS = cdsSeq\n",
    "    else:\n",
    "        alignedCDS += cdsSeq\n",
    "\n",
    "AlignIO.write(alignedCDS, os.path.join(snpCompareDir, \"aligned_cds.fasta\"), \"fasta\")"
   ]
  },
  {
   "cell_type": "code",
   "execution_count": 7,
   "metadata": {},
   "outputs": [],
   "source": [
    "ref2alignedCDS = {}\n",
    "\n",
    "for record in alignedCDS:\n",
    "    if record.id == reference:\n",
    "        refIndex = -1\n",
    "        for alignedIndex, n in enumerate(record):\n",
    "            if n != '-':\n",
    "                refIndex += 1\n",
    "            ref2alignedCDS[refIndex] = alignedIndex\n",
    "        break"
   ]
  },
  {
   "cell_type": "code",
   "execution_count": 8,
   "metadata": {},
   "outputs": [],
   "source": [
    "orderAC = [reference]\n",
    "\n",
    "for fn in (\"gp2_trimmed.fasta\", \"gp1_trimmed.fasta\", \"wild.fasta\"):\n",
    "    seqs = SeqIO.index(os.path.join(snpCompareDir, fn), \"fasta\")\n",
    "    for ac in seqs:\n",
    "        if ac != reference:\n",
    "            orderAC.append(ac)"
   ]
  },
  {
   "cell_type": "code",
   "execution_count": 21,
   "metadata": {},
   "outputs": [],
   "source": [
    "snpPos = 8517\n",
    "pos = ref2alignedCDS[snpPos]\n",
    "seq = alignedCDS[:, pos - 15:pos + 12]"
   ]
  },
  {
   "cell_type": "code",
   "execution_count": 22,
   "metadata": {},
   "outputs": [],
   "source": [
    "nt = pd.DataFrame(seq)\n",
    "nt.columns = nt.columns.values + (snpPos - 14)\n",
    "nt.index = [record.id for record in seq]\n",
    "nt.loc[orderAC, ].to_csv(os.path.join(snpCompareDir, \"nt{}.csv\".format(snpPos)))"
   ]
  },
  {
   "cell_type": "code",
   "execution_count": 24,
   "metadata": {},
   "outputs": [
    {
     "data": {
      "text/plain": [
       "10"
      ]
     },
     "execution_count": 24,
     "metadata": {},
     "output_type": "execute_result"
    }
   ],
   "source": [
    "seqs = []\n",
    "for ac in orderAC:\n",
    "    for record in seq:\n",
    "        if record.id == ac:\n",
    "            seqs.append(record)\n",
    "SeqIO.write(seqs, os.path.join(snpCompareDir, \"nt{}.fasta\".format(snpPos)), \"fasta\")"
   ]
  },
  {
   "cell_type": "code",
   "execution_count": 25,
   "metadata": {},
   "outputs": [],
   "source": [
    "aaSeq = MultipleSeqAlignment([seq[0].translate(id=seq[0].id)])\n",
    "for s in seq[1:]:\n",
    "    aaSeq.add_sequence(s.id, str(s.translate().seq))\n",
    "\n",
    "aa = pd.DataFrame(aaSeq)\n",
    "aa.columns = aa.columns.values + int((snpPos - 12) / 3)\n",
    "aa.index = [record.id for record in aaSeq]\n",
    "aa.loc[orderAC, ].to_csv(os.path.join(snpCompareDir, \"aa{}.csv\".format(snpPos)))"
   ]
  },
  {
   "cell_type": "code",
   "execution_count": 26,
   "metadata": {},
   "outputs": [
    {
     "data": {
      "text/plain": [
       "10"
      ]
     },
     "execution_count": 26,
     "metadata": {},
     "output_type": "execute_result"
    }
   ],
   "source": [
    "seqs = []\n",
    "for ac in orderAC:\n",
    "    for record in aaSeq:\n",
    "        if record.id == ac:\n",
    "            seqs.append(record)\n",
    "SeqIO.write(seqs, os.path.join(snpCompareDir, \"aa{}.fasta\".format(snpPos)), \"fasta\")"
   ]
  },
  {
   "cell_type": "code",
   "execution_count": 27,
   "metadata": {},
   "outputs": [],
   "source": [
    "snpPos = 27641\n",
    "pos = ref2alignedCDS[snpPos]\n",
    "seq = alignedCDS[:, pos - 14:pos + 13]"
   ]
  },
  {
   "cell_type": "code",
   "execution_count": 28,
   "metadata": {},
   "outputs": [],
   "source": [
    "nt = pd.DataFrame(seq)\n",
    "nt.columns = nt.columns.values + (snpPos - 13)\n",
    "nt.index = [record.id for record in seq]\n",
    "nt.loc[orderAC, ].to_csv(os.path.join(snpCompareDir, \"nt{}.csv\".format(snpPos)))"
   ]
  },
  {
   "cell_type": "code",
   "execution_count": 29,
   "metadata": {},
   "outputs": [
    {
     "data": {
      "text/plain": [
       "10"
      ]
     },
     "execution_count": 29,
     "metadata": {},
     "output_type": "execute_result"
    }
   ],
   "source": [
    "seqs = []\n",
    "for ac in orderAC:\n",
    "    for record in seq:\n",
    "        if record.id == ac:\n",
    "            seqs.append(record)\n",
    "SeqIO.write(seqs, os.path.join(snpCompareDir, \"nt{}.fasta\".format(snpPos)), \"fasta\")"
   ]
  },
  {
   "cell_type": "code",
   "execution_count": 31,
   "metadata": {},
   "outputs": [],
   "source": [
    "aaSeq = MultipleSeqAlignment([seq[0].translate(id=seq[0].id)])\n",
    "for s in seq[1:]:\n",
    "    aaSeq.add_sequence(s.id, str(s.translate().seq))\n",
    "\n",
    "aa = pd.DataFrame(aaSeq)\n",
    "aa.columns = aa.columns.values + int((snpPos - 11) / 3)\n",
    "aa.index = [record.id for record in aaSeq]\n",
    "aa.loc[orderAC, ].to_csv(os.path.join(snpCompareDir, \"aa{}.csv\".format(snpPos)))"
   ]
  },
  {
   "cell_type": "code",
   "execution_count": 32,
   "metadata": {},
   "outputs": [
    {
     "data": {
      "text/plain": [
       "10"
      ]
     },
     "execution_count": 32,
     "metadata": {},
     "output_type": "execute_result"
    }
   ],
   "source": [
    "seqs = []\n",
    "for ac in orderAC:\n",
    "    for record in aaSeq:\n",
    "        if record.id == ac:\n",
    "            seqs.append(record)\n",
    "SeqIO.write(seqs, os.path.join(snpCompareDir, \"aa{}.fasta\".format(snpPos)), \"fasta\")"
   ]
  }
 ],
 "metadata": {
  "kernelspec": {
   "display_name": "Python 3",
   "language": "python",
   "name": "python3"
  },
  "language_info": {
   "codemirror_mode": {
    "name": "ipython",
    "version": 3
   },
   "file_extension": ".py",
   "mimetype": "text/x-python",
   "name": "python",
   "nbconvert_exporter": "python",
   "pygments_lexer": "ipython3",
   "version": "3.5.3"
  }
 },
 "nbformat": 4,
 "nbformat_minor": 2
}
