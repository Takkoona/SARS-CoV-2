{
 "cells": [
  {
   "cell_type": "code",
   "execution_count": 1,
   "metadata": {},
   "outputs": [],
   "source": [
    "import os\n",
    "import json\n",
    "\n",
    "from Bio import AlignIO, SeqIO\n",
    "\n",
    "dataDir = \"Data\"\n",
    "snpDir = \"SNPs\"\n",
    "genomeTreeDir = \"Genome_tree\"\n",
    "translatedDir = \"Translated\"\n",
    "translatedBatDir = \"Translated_bat\"\n",
    "\n",
    "reference = \"EPI_ISL_402125\""
   ]
  },
  {
   "cell_type": "code",
   "execution_count": 2,
   "metadata": {},
   "outputs": [],
   "source": [
    "def translate(cdsSeq):\n",
    "    aaSeqs = []\n",
    "    for record in cdsSeq:\n",
    "        record.seq = record.seq.ungap('-').translate(cds=True)\n",
    "        aaSeqs.append(record)\n",
    "    return aaSeqs"
   ]
  },
  {
   "cell_type": "code",
   "execution_count": 3,
   "metadata": {},
   "outputs": [],
   "source": [
    "if not os.path.exists(translatedDir):\n",
    "    os.mkdir(translatedDir)\n",
    "    \n",
    "if not os.path.exists(translatedBatDir):\n",
    "    os.mkdir(translatedBatDir)"
   ]
  },
  {
   "cell_type": "code",
   "execution_count": 4,
   "metadata": {},
   "outputs": [],
   "source": [
    "aligned = AlignIO.read(os.path.join(genomeTreeDir, \"aligned.fasta\"), \"fasta\")\n",
    "with open(os.path.join(snpDir, \"cds_info.json\")) as f:\n",
    "    cdsInfo = json.load(f)"
   ]
  },
  {
   "cell_type": "code",
   "execution_count": 5,
   "metadata": {},
   "outputs": [],
   "source": [
    "ref2aligned = {}\n",
    "\n",
    "for record in aligned:\n",
    "    if record.id == reference:\n",
    "        index = -1\n",
    "        for aligned_index, nt in enumerate(record):\n",
    "            if nt != '-':\n",
    "                index += 1\n",
    "                ref2aligned[index] = aligned_index"
   ]
  },
  {
   "cell_type": "code",
   "execution_count": 6,
   "metadata": {},
   "outputs": [
    {
     "name": "stdout",
     "output_type": "stream",
     "text": [
      "orf1ab polyprotein 21291\n",
      "surface glycoprotein 3822\n",
      "ORF3a protein 828\n",
      "envelope protein 228\n",
      "membrane glycoprotein 669\n",
      "ORF6 protein 186\n",
      "ORF7a protein 366\n",
      "ORF8 protein 366\n",
      "nucleocapsid phosphoprotein 1260\n",
      "ORF10 protein 117\n"
     ]
    },
    {
     "data": {
      "text/plain": [
       "1"
      ]
     },
     "execution_count": 6,
     "metadata": {},
     "output_type": "execute_result"
    }
   ],
   "source": [
    "prev_product_id = -1\n",
    "prev_product_name = None\n",
    "prev_start = None\n",
    "prev_end = None\n",
    "\n",
    "for loc in cdsInfo:\n",
    "    product_id = loc[\"product_id\"]\n",
    "    product_name = loc[\"product_name\"]\n",
    "    start = loc[\"ref_start\"]\n",
    "    end = loc[\"ref_end\"]\n",
    "    current_seq = aligned[:, ref2aligned[start]:ref2aligned[end]]\n",
    "    if product_id == prev_product_id:\n",
    "        current_seq = prev_seq + current_seq\n",
    "    else:\n",
    "        if prev_product_name:\n",
    "            cdsDir = os.path.join(translatedDir, prev_product_name.replace(' ', '_'))\n",
    "            print(prev_product_name, prev_seq.get_alignment_length())\n",
    "            if not os.path.exists(cdsDir):\n",
    "                os.mkdir(cdsDir)\n",
    "            AlignIO.write(prev_seq, os.path.join(cdsDir, \"aligned_cds.fasta\"), \"fasta\")\n",
    "#             aaSeqs = translate(prev_seq)\n",
    "#             SeqIO.write(aaSeqs, os.path.join(cdsDir, \"protein.fasta\"), \"fasta\")\n",
    "    prev_product_id = product_id\n",
    "    prev_product_name = product_name\n",
    "    prev_seq = current_seq\n",
    "\n",
    "print(prev_product_name, prev_seq.get_alignment_length())\n",
    "AlignIO.write(prev_seq, os.path.join(cdsDir, prev_product_name + \".fasta\"), \"fasta\")"
   ]
  },
  {
   "cell_type": "code",
   "execution_count": 7,
   "metadata": {},
   "outputs": [],
   "source": [
    "referenceBat = SeqIO.read(os.path.join(dataDir, \"reference_bat.gb\"), \"gb\")"
   ]
  },
  {
   "cell_type": "code",
   "execution_count": 8,
   "metadata": {},
   "outputs": [
    {
     "name": "stdout",
     "output_type": "stream",
     "text": [
      "250 21537\n",
      "21544 25354\n",
      "25362 26190\n",
      "26214 26442\n",
      "26492 27158\n",
      "27168 27354\n",
      "27359 27725\n",
      "27721 27853\n",
      "27859 28225\n",
      "28239 29499\n"
     ]
    }
   ],
   "source": [
    "prev_product_id = -1\n",
    "prev_product_name = None\n",
    "prev_start = None\n",
    "prev_end = None\n",
    "\n",
    "for f in referenceBat.features:\n",
    "    if f.type == \"CDS\":\n",
    "        product_name = \", \".join(f.qualifiers[\"product\"])\n",
    "        start = f.location.parts[0].start\n",
    "        for i in f.location.parts:\n",
    "            end = i.end\n",
    "        print(start, end)\n",
    "        cdsSeq = referenceBat[start:end]\n",
    "        cdsDir = os.path.join(translatedBatDir, product_name.replace(' ', '_'))\n",
    "        if not os.path.exists(cdsDir):\n",
    "            os.mkdir(cdsDir)\n",
    "        SeqIO.write(cdsSeq, os.path.join(cdsDir, \"aligned_cds.fasta\"), \"fasta\")\n",
    "#         aaSeqs = translate(cdsSeq)\n",
    "#         SeqIO.write(aaSeqs, os.path.join(cdsDir, \"protein.fasta\"), \"fasta\")"
   ]
  }
 ],
 "metadata": {
  "kernelspec": {
   "display_name": "Python 3",
   "language": "python",
   "name": "python3"
  },
  "language_info": {
   "codemirror_mode": {
    "name": "ipython",
    "version": 3
   },
   "file_extension": ".py",
   "mimetype": "text/x-python",
   "name": "python",
   "nbconvert_exporter": "python",
   "pygments_lexer": "ipython3",
   "version": "3.5.3"
  }
 },
 "nbformat": 4,
 "nbformat_minor": 2
}
