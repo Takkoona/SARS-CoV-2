{
 "cells": [
  {
   "cell_type": "markdown",
   "metadata": {},
   "source": [
    "# Important\n",
    "\n",
    "Run `fetch_cases.py` in `Transmission` to get `cases.json`."
   ]
  },
  {
   "cell_type": "code",
   "execution_count": 1,
   "metadata": {},
   "outputs": [],
   "source": [
    "import os\n",
    "import json\n",
    "\n",
    "import pandas as pd\n",
    "from matplotlib import pyplot as plt"
   ]
  },
  {
   "cell_type": "code",
   "execution_count": 2,
   "metadata": {},
   "outputs": [],
   "source": [
    "transmissonDir = \"Transmission\"\n",
    "\n",
    "with open(os.path.join(transmissonDir, \"cases.json\"), 'r') as f:\n",
    "    cases = json.load(f)"
   ]
  },
  {
   "cell_type": "code",
   "execution_count": 3,
   "metadata": {},
   "outputs": [],
   "source": [
    "pinyin = {\n",
    "    \"安徽省\": \"Anhui\", \"河南省\": \"Henan\", \"广东省\": \"Guangdong\",\n",
    "    \"河北省\": \"Hebei\", \"湖北省\": \"Hubei\", \"江西省\": \"Jiangxi\",\n",
    "    \"山东省\": \"Shandong\", \"山西省\": \"Shanxi\", \"天津市\": \"Tianjin\",\n",
    "    \"西藏\": \"Xizang\", \"澳门\": \"Macau\", \"广西\": \"Guangxi\",\n",
    "    \"湖南省\": \"Hunan\", \"上海市\": \"Shanghai\", \"四川省\": \"Sichuan\",\n",
    "    \"香港\": \"Hong Kong\", \"云南省\": \"Yunnan\", \"北京市\": \"Beijing\",\n",
    "    \"贵州省\": \"Guizhou\", \"河南省\": \"Henan\", \"江苏省\": \"Jiangsu\",\n",
    "    \"辽宁省\": \"Liaoning\", \"青海省\": \"Qinghai\", \"陕西省\": \"Shaanxi\",\n",
    "    \"台湾省\": \"Taiwan\", \"新疆\": \"Xinjiang\", \"浙江省\": \"Zhejiang\",\n",
    "    \"海南省\": \"Hainan\", \"重庆市\": \"Chongqing\", \"内蒙古\": \"Inner Mongolia\",\n",
    "    \"福建省\": \"Fujian\", \"黑龙江省\": \"Heilongjiang\", \"吉林省\": \"Jilin\",\n",
    "    \"宁夏\": \"Ningxia\", \"甘肃省\": \"Gansu\", \"台湾\": \"Taiwan\",\n",
    "    \"内蒙古自治区\": \"Inner Mongolia\", \"西藏自治区\": \"Xizang\",\n",
    "    \"广西壮族自治区\": \"Guangxi\", \"宁夏回族自治区\": \"Ningxia\",\n",
    "    \"广西省\": \"Guangxi\"\n",
    "}"
   ]
  },
  {
   "cell_type": "code",
   "execution_count": 4,
   "metadata": {},
   "outputs": [],
   "source": [
    "area = list(set(pinyin.values()))\n",
    "area.sort()"
   ]
  },
  {
   "cell_type": "code",
   "execution_count": 5,
   "metadata": {},
   "outputs": [],
   "source": [
    "df = pd.DataFrame(columns=(\"Date\", \"Area\", \"Confirmed\", \"Critical\", \"Severe\", \"Cured\", \"Dead\"))\n",
    "\n",
    "for i in cases[\"province\"]:\n",
    "    for p in i[\"ProvinceDetail\"]:\n",
    "        row = {\n",
    "            \"Date\": i[\"Time\"], \"Area\": pinyin[p[\"Province\"]],\n",
    "            \"Confirmed\": p[\"Confirmed\"], \"Critical\": p[\"Critical\"],\n",
    "            \"Severe\": p[\"Severe\"], \"Cured\": p[\"Cured\"],\n",
    "            \"Dead\": p[\"Dead\"]\n",
    "        }\n",
    "        df = df.append(pd.Series(data=row), ignore_index=True)\n",
    "\n",
    "df[\"Date\"] = pd.to_datetime(df[\"Date\"])\n",
    "df = df.drop_duplicates()"
   ]
  },
  {
   "cell_type": "code",
   "execution_count": 6,
   "metadata": {},
   "outputs": [],
   "source": [
    "dateVSarea = df.pivot(index=\"Area\", columns=\"Date\", values=\"Confirmed\")\n",
    "# dateVSarea = dateVSarea.fillna(0).iloc[:, 0:len(dateVSarea.columns) - 1]\n",
    "dateVSarea = dateVSarea.fillna(0).iloc[:, 0:13]\n",
    "\n",
    "info = pd.read_csv(os.path.join(\"Data\", \"info.csv\"))\n",
    "dateVSarea = dateVSarea[dateVSarea.index.isin(info[\"Area\"].drop_duplicates())]\n",
    "dateVSarea = dateVSarea.sort_values(by=\"2020-01-23\")"
   ]
  },
  {
   "cell_type": "code",
   "execution_count": 8,
   "metadata": {},
   "outputs": [
    {
     "data": {
      "image/png": "[encoded data removed]",
      "text/plain": [
       "<Figure size 432x288 with 1 Axes>"
      ]
     },
     "metadata": {
      "needs_background": "light"
     },
     "output_type": "display_data"
    }
   ],
   "source": [
    "yVal = []\n",
    "for index, row in dateVSarea.iterrows():\n",
    "#     plt.plot([], [], label=index)\n",
    "    yVal.append(row)\n",
    "plt.stackplot(dateVSarea.columns, *yVal)\n",
    "plt.axvline(x = \"2020-01-23\", color = \"red\", label = \"travel restriction\")\n",
    "plt.xticks(rotation=30)\n",
    "plt.legend(loc=\"upper left\")\n",
    "plt.savefig(fname = os.path.join(transmissonDir, \"cases.png\"))\n",
    "plt.show()"
   ]
  }
 ],
 "metadata": {
  "kernelspec": {
   "display_name": "Python 3",
   "language": "python",
   "name": "python3"
  },
  "language_info": {
   "codemirror_mode": {
    "name": "ipython",
    "version": 3
   },
   "file_extension": ".py",
   "mimetype": "text/x-python",
   "name": "python",
   "nbconvert_exporter": "python",
   "pygments_lexer": "ipython3",
   "version": "3.5.3"
  }
 },
 "nbformat": 4,
 "nbformat_minor": 2
}
